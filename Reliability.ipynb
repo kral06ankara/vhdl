{
  "cells": [
    {
      "cell_type": "markdown",
      "metadata": {
        "editable": true,
        "tags": [],
        "id": "8okK0LhclOgE"
      },
      "source": [
        "## <center> Reliability and Security of Deep Neural Networks </center>\n",
        "\n",
        "<table style=\"width:100%\">\n",
        "    <tr>\n",
        "        <td><img src=\"https://github.com/hamidmousavi0/TSS_Reliability_School/blob/main/Figs/MDU.png?raw=true\" width=\"150\" height=\"150\"></td>\n",
        "        <td><img src=\"https://github.com/hamidmousavi0/TSS_Reliability_School/blob/main/Figs/deepHero.png?raw=true\" width=\"150\" height=\"150\"></td>\n",
        "        <td><img src=\"https://github.com/hamidmousavi0/TSS_Reliability_School/blob/main/Figs/taltech.jpeg?raw=true\" width=\"150\" height=\"150\"></td>\n",
        "    </tr>\n",
        "</table>\n",
        "\n",
        "###### $\\color{blue}{\\text{Masoud Daneshtalab:}}$ Professor at Mälardalen University and TalTech\n",
        "######  $\\color{blue}{\\text{Seyedhamidreza Mousavi:}}$ PhD student at Malardalan University\n",
        "######  $\\color{blue}{\\text{Mohammad Hassan Ahmadilivani (Mojtaba):}}$ Postdoctoral researcher at TalTech University\n",
        "\n",
        "<table style=\"width:100%\">\n",
        "    <tr>\n",
        "        <td><img src=\"https://github.com/hamidmousavi0/TSS_Reliability_School/blob/main/Figs/masoud.jpeg?raw=true\" width=\"100\" height=\"100\"></td>\n",
        "        <td><img src=\"https://github.com/hamidmousavi0/TSS_Reliability_School/blob/main/Figs/hamid.jpeg?raw=true\" width=\"100\" height=\"100\"></td>\n",
        "        <td><img src=\"https://github.com/hamidmousavi0/TSS_Reliability_School/blob/main/Figs/mojtaba.jpeg?raw=true\" width=\"117\" height=\"100\"></td>\n",
        "    </tr>\n",
        "</table>\n",
        "\n",
        "######  $\\color{blue}{\\text{Email:}}$ masoud.daneshtalab@mdu.se, seyedhamidreza.mousavi@mdu.se, mohammad.ahmadilivani@taltech.ee"
      ]
    },
    {
      "cell_type": "markdown",
      "metadata": {
        "editable": true,
        "tags": [],
        "id": "_TTAGvgFlOgG"
      },
      "source": [
        "<table style=\"width:100%\">\n",
        "    <tr>\n",
        "        <td><img src=\"https://github.com/hamidmousavi0/TSS_Reliability_School/blob/main/Figs/deepvigor.png?raw=true\"></td>\n",
        "        <td><img src=\"https://github.com/hamidmousavi0/reliable-relu-toolbox/raw/master/images/RReLU.png?raw=true\"></td>\n",
        "        <td><img src=\"https://github.com/hamidmousavi0/TSS_Reliability_School/blob/main/Figs/ProARD_logo.png?raw=true\"></td>\n",
        "    </tr>\n",
        "</table>"
      ]
    },
    {
      "cell_type": "markdown",
      "metadata": {
        "editable": true,
        "tags": [],
        "id": "dh6cxyQllOgG"
      },
      "source": [
        "### Reliability and security threats to machine learning-based systems\n",
        "\n",
        "![image.png](https://github.com/hamidmousavi0/TSS_Reliability_School/blob/main/Figs/fig1.png?raw=true)\n",
        "\n",
        "**We are going to focus on two threats:**\n",
        "\n",
        "- **Reliability issues (Hardware Faults) RReLU Framework**\n",
        "- **Adversarial input perturbation   ProARD Framework**"
      ]
    },
    {
      "cell_type": "markdown",
      "metadata": {
        "editable": true,
        "id": "A7ImeqwLMocY",
        "tags": []
      },
      "source": [
        "## First Part: Reliable ReLU Toolbox (RReLU) To Enhance Resilience of DNNs\n"
      ]
    },
    {
      "cell_type": "markdown",
      "metadata": {
        "editable": true,
        "id": "XP5ALieJAAes",
        "tags": []
      },
      "source": [
        "## What is a Deep Neural Network?\n",
        "\n",
        "![image.png](https://static-assets.codecademy.com/Courses/intro-to-pytorch/hidden.svg)\n",
        "\n"
      ]
    },
    {
      "cell_type": "markdown",
      "metadata": {
        "editable": true,
        "tags": [],
        "id": "MBS7NpPFlOgG"
      },
      "source": [
        "## The application of DNNs: **Object Detection**\n",
        "\n",
        "![image.png](https://rubikscode.net/wp-content/uploads/2021/04/yolo1.png)"
      ]
    },
    {
      "cell_type": "markdown",
      "metadata": {
        "editable": true,
        "tags": [],
        "id": "wylHgRxblOgG"
      },
      "source": [
        "## What is the Soft-errors problem?\n",
        "\n",
        "![image.png](https://ars.els-cdn.com/content/image/1-s2.0-S0026271420308003-gr1.jpg)"
      ]
    },
    {
      "cell_type": "markdown",
      "metadata": {
        "editable": true,
        "tags": [],
        "id": "jt7fiMpWlOgG"
      },
      "source": [
        "![image.gif](https://github.com/hamidmousavi0/TSS_Reliability_School/blob/main/Figs/lyft_yolov3.gif?raw=true/lyft_yolov3.gif?raw=true)"
      ]
    },
    {
      "cell_type": "markdown",
      "metadata": {
        "editable": true,
        "tags": [],
        "id": "-jrxApiolOgH"
      },
      "source": [
        "## ❓ What is the issue with ReLU?\n",
        "\n",
        "![image.png](https://www.researchgate.net/profile/Saad-Albawi/publication/328048988/figure/fig17/AS:677675828011008@1538581916318/Figure-316-Rectified-Linear-Unit-94.jpg)"
      ]
    },
    {
      "cell_type": "markdown",
      "metadata": {
        "editable": true,
        "tags": [],
        "id": "r4s1a5jclOgH"
      },
      "source": [
        "![image.png](https://github.com/hamidmousavi0/TSS_Reliability_School/blob/main/Figs/faults.png?raw=true)"
      ]
    },
    {
      "cell_type": "markdown",
      "metadata": {
        "editable": true,
        "id": "jiVBhPux8oJD",
        "tags": []
      },
      "source": [
        "## ✅ What is the solution?\n",
        "\n",
        "![image.png](https://miro.medium.com/v2/resize:fit:1400/1*3EKmtgzcSMe237_sUNovGg.png)\n"
      ]
    },
    {
      "cell_type": "markdown",
      "metadata": {
        "editable": true,
        "tags": [],
        "id": "8giSxmoOlOhH"
      },
      "source": [
        "**❓How can we find the bound value for each ReLU activation function?**\n",
        "\n",
        "\n",
        "\n",
        "**❓If the output activation is higher than bound, what should we do?**\n",
        "\n",
        "\n",
        "\n",
        "\n",
        "**❓IS there any real situation that changed the activation value a lot?**\n",
        "\n",
        "\n",
        "\n",
        "**❓Do we need to find one bound value for each layer or neuron?**\n"
      ]
    },
    {
      "cell_type": "markdown",
      "metadata": {
        "editable": true,
        "id": "4oNazfJE-Vg2",
        "tags": []
      },
      "source": [
        "## Data representation in Neural Network\n",
        "\n",
        "## Fixed-Point Number\n",
        "\n",
        "![fixed-point.png](data:image/png;base64,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)\n",
        "\n"
      ]
    },
    {
      "cell_type": "markdown",
      "metadata": {
        "editable": true,
        "tags": [],
        "id": "lakXuXHzlOhH"
      },
      "source": [
        "## Floating-Point Number\n",
        "\n",
        "![image.png](data:image/png;base64,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)"
      ]
    },
    {
      "cell_type": "markdown",
      "metadata": {
        "editable": true,
        "tags": [],
        "id": "RYUIc902lOhI"
      },
      "source": [
        "## Activation Restriction Methods:\n",
        "\n",
        "- **Bounded ReLU activation functions:**\n",
        "![image.png](https://github.com/hamidmousavi0/TSS_Reliability_School/blob/main/Figs/rest.png?raw=1)\n",
        "\n",
        "- **Algorithm for finding the bounds:**\n",
        "    - Ranger used the calibration method in a layer-wise way.\n",
        "    - FT-ClipAct used a   heuristic method based on fault-injection in a layer-wise manner.\n",
        "    - FitAct leveraged an optimisation-based method in a neuron-wise mode.\n",
        "    - **ProAct used a Hybrid activation function (neuron-wise and layer-wise) and progressive training**\n",
        "\n"
      ]
    },
    {
      "cell_type": "markdown",
      "metadata": {
        "editable": true,
        "tags": [],
        "id": "S58RFZKblOhI"
      },
      "source": [
        "### ProAct provide an Open-Source Framework for all the Methods (RReLU)\n",
        "It includes implementations of the following algorithms:\n",
        "\n",
        "\n",
        "1.   **[FitAct: Error Resilient Deep Neural Networks via Fine-Grained Post-Trainable Activation Functions](https://arxiv.org/pdf/2112.13544)**\n",
        "\n",
        "\n",
        "\n",
        "2.   **[FT-ClipAct: Resilience Analysis of Deep Neural Networks and Improving their Fault Tolerance using Clipped Activation](https://arxiv.org/pdf/1912.00941)**\n",
        "3. **[Ranger: A Low-cost Fault Corrector for Deep Neural Networks through Range Restriction](https://arxiv.org/pdf/2003.13874)**\n",
        "4. **[ProAct: Progressive Training for Hybrid Clipped Activation Function to Enhance Resilience of DNNs](https://arxiv.org/pdf/2406.06313)**"
      ]
    },
    {
      "cell_type": "markdown",
      "metadata": {
        "editable": true,
        "tags": [],
        "id": "LBLIq2MDlOhI"
      },
      "source": [
        "## How do different methods work?\n",
        "\n",
        "#### **Ranger**: Find the maximum value for a validation set and use that value as the bound in each ReLU.\n",
        "\n",
        "#### **FT-ClipAct**:\n",
        "\n",
        "![image.png](https://github.com/hamidmousavi0/TSS_Reliability_School/blob/main/Figs/ftclip.png?raw=true)\n",
        "\n"
      ]
    },
    {
      "cell_type": "markdown",
      "metadata": {
        "editable": true,
        "tags": [],
        "id": "J_XF5ezvlOhI"
      },
      "source": [
        "#### **FitAct**:\n",
        "\n",
        "![image.png](https://github.com/hamidmousavi0/TSS_Reliability_School/blob/main/Figs/fitact.png?raw=true)"
      ]
    },
    {
      "cell_type": "markdown",
      "metadata": {
        "editable": true,
        "tags": [],
        "id": "xOHxmH6qlOhI"
      },
      "source": [
        "#### **ProAct**:\n",
        "\n",
        "![image.png](https://github.com/hamidmousavi0/TSS_Reliability_School/blob/main/Figs/proact.png?raw=true)"
      ]
    },
    {
      "cell_type": "markdown",
      "metadata": {
        "editable": true,
        "tags": [],
        "id": "o9tDWLnZlOhI"
      },
      "source": [
        "## Instructions to use RReLU framework"
      ]
    },
    {
      "cell_type": "markdown",
      "metadata": {
        "editable": true,
        "id": "O9PQxHj_q8rn",
        "tags": []
      },
      "source": [
        "## Install Packages and Clone the RReLU Github Repository"
      ]
    },
    {
      "cell_type": "code",
      "execution_count": null,
      "metadata": {
        "colab": {
          "base_uri": "https://localhost:8080/"
        },
        "editable": true,
        "id": "WBlvDRl7rAjJ",
        "outputId": "50e8cd95-3cde-4e0a-ddfa-16c924952ddf",
        "tags": []
      },
      "outputs": [
        {
          "output_type": "stream",
          "name": "stdout",
          "text": [
            "Collecting fxpmath\n",
            "  Downloading fxpmath-0.4.9.tar.gz (51 kB)\n",
            "\u001b[?25l     \u001b[90m━━━━━━━━━━━━━━━━━━━━━━━━━━━━━━━━━━━━━━━━\u001b[0m \u001b[32m0.0/51.4 kB\u001b[0m \u001b[31m?\u001b[0m eta \u001b[36m-:--:--\u001b[0m\r\u001b[2K     \u001b[90m━━━━━━━━━━━━━━━━━━━━━━━━━━━━━━━━━━━━━━━━\u001b[0m \u001b[32m51.4/51.4 kB\u001b[0m \u001b[31m2.2 MB/s\u001b[0m eta \u001b[36m0:00:00\u001b[0m\n",
            "\u001b[?25h  Preparing metadata (setup.py) ... \u001b[?25l\u001b[?25hdone\n",
            "Requirement already satisfied: numpy in /usr/local/lib/python3.11/dist-packages (from fxpmath) (2.0.2)\n",
            "Building wheels for collected packages: fxpmath\n",
            "  Building wheel for fxpmath (setup.py) ... \u001b[?25l\u001b[?25hdone\n",
            "  Created wheel for fxpmath: filename=fxpmath-0.4.9-py3-none-any.whl size=35224 sha256=b2c920a21f6085ec3698efa90f2ade59794f81695dcaf2ccb902f01b0ae0ff92\n",
            "  Stored in directory: /root/.cache/pip/wheels/4a/75/f7/65a895cb07af2c0c9590a063373ade5b7215f26198c3704574\n",
            "Successfully built fxpmath\n",
            "Installing collected packages: fxpmath\n",
            "Successfully installed fxpmath-0.4.9\n",
            "Cloning into 'reliable-relu-toolbox'...\n",
            "remote: Enumerating objects: 182, done.\u001b[K\n",
            "remote: Counting objects: 100% (141/141), done.\u001b[K\n",
            "remote: Compressing objects: 100% (111/111), done.\u001b[K\n",
            "remote: Total 182 (delta 84), reused 54 (delta 29), pack-reused 41 (from 2)\u001b[K\n",
            "Receiving objects: 100% (182/182), 6.94 MiB | 8.01 MiB/s, done.\n",
            "Resolving deltas: 100% (86/86), done.\n",
            "/content/reliable-relu-toolbox\n"
          ]
        }
      ],
      "source": [
        "!pip install fxpmath\n",
        "!git clone https://github.com/hamidmousavi0/reliable-relu-toolbox.git\n",
        "%cd reliable-relu-toolbox/"
      ]
    },
    {
      "cell_type": "markdown",
      "metadata": {
        "editable": true,
        "id": "pI_Vtlj5ZIKB",
        "tags": []
      },
      "source": [
        "## Build Data Loader\n",
        "\n",
        "\n",
        "First, we need to create the Dataset"
      ]
    },
    {
      "cell_type": "code",
      "execution_count": null,
      "metadata": {
        "editable": true,
        "id": "zpzaZ_gWZMmQ",
        "tags": [],
        "colab": {
          "base_uri": "https://localhost:8080/"
        },
        "outputId": "7e9968df-2cc2-4cfb-bc2b-783f368bdfb2"
      },
      "outputs": [
        {
          "output_type": "stream",
          "name": "stderr",
          "text": [
            "100%|██████████| 170M/170M [00:13<00:00, 13.0MB/s]\n",
            "/usr/local/lib/python3.11/dist-packages/torch/utils/data/dataloader.py:624: UserWarning: This DataLoader will create 8 worker processes in total. Our suggested max number of worker in current system is 2, which is smaller than what this DataLoader is going to create. Please be aware that excessive worker creation might get DataLoader running slow or even freeze, lower the worker number to avoid potential slowness/freeze if necessary.\n",
            "  warnings.warn(\n"
          ]
        }
      ],
      "source": [
        "from rrelu.setup import build_data_loader\n",
        "data_loader_dict, n_classes = build_data_loader(dataset='cifar10',\n",
        "                                    batch_size=128, image_size=32)\n",
        "import matplotlib.pyplot as plt\n",
        "\n",
        "# Get the first batch from the training data loader\n",
        "images, labels = next(iter(data_loader_dict['train']))\n",
        "\n",
        "# Get the class names for CIFAR-10\n",
        "# This assumes CIFAR-10 is used as specified in the previous cell\n",
        "class_names = ['airplane', 'automobile', 'bird',\n",
        "               'cat', 'deer', 'dog', 'frog',\n",
        "               'horse', 'ship', 'truck']\n",
        "\n",
        "\n",
        "# plt.figure(figsize=(10,10))\n",
        "# for i in range(25):\n",
        "#     plt.subplot(5,5,i+1)\n",
        "#     plt.xticks([])\n",
        "#     plt.yticks([])\n",
        "#     plt.grid(False)\n",
        "#     # Transpose the image tensor to be in HxWxC format for plotting\n",
        "#     plt.imshow(images[i].permute(1, 2, 0))\n",
        "#     # The CIFAR10 labels are indices, so we use the class_names list\n",
        "#     plt.xlabel(class_names[labels[i].item()])\n",
        "# plt.show()"
      ]
    },
    {
      "cell_type": "markdown",
      "metadata": {
        "editable": true,
        "id": "-viqLR3IBlkW",
        "tags": []
      },
      "source": [
        "## Build Model\n",
        "\n",
        "- Our tool support pre-trained models on CIFAR-10, CIFAR-100, and ImageNet Dataset\n",
        "\n",
        "- Cifar-10 and Cifar-100 supported models:\n",
        "    *   resnet20, resnet32, resnet44, resnet56\n",
        "    *   vgg11_bn, vgg13_bn, vgg16_bn, vgg19-bn\n",
        "    *   mobilenetv2_x0_5, mobilenetv2_x0_75\n",
        "    *   shufflenetv2_x1_5\n",
        "\n",
        "- ImageNet supported Models:\n",
        "    - All the models in the PyTorch-hub\n",
        "    \n",
        "\n"
      ]
    },
    {
      "cell_type": "code",
      "execution_count": null,
      "metadata": {
        "editable": true,
        "id": "Fgo3P5v8Ze9A",
        "tags": [],
        "colab": {
          "base_uri": "https://localhost:8080/"
        },
        "outputId": "bd7b957d-ce75-41df-a908-152f7a143e77"
      },
      "outputs": [
        {
          "output_type": "stream",
          "name": "stderr",
          "text": [
            "Downloading: \"https://github.com/chenyaofo/pytorch-cifar-models/releases/download/resnet/cifar10_resnet20-4118986f.pt\" to /root/.cache/torch/hub/checkpoints/cifar10_resnet20-4118986f.pt\n",
            "100%|██████████| 1.09M/1.09M [00:00<00:00, 60.5MB/s]"
          ]
        },
        {
          "output_type": "stream",
          "name": "stdout",
          "text": [
            "CifarResNet(\n",
            "  (conv1): Conv2d(3, 16, kernel_size=(3, 3), stride=(1, 1), padding=(1, 1), bias=False)\n",
            "  (bn1): BatchNorm2d(16, eps=1e-05, momentum=0.1, affine=True, track_running_stats=True)\n",
            "  (relu): ReLU(inplace=True)\n",
            "  (layer1): Sequential(\n",
            "    (0): BasicBlock(\n",
            "      (conv1): Conv2d(16, 16, kernel_size=(3, 3), stride=(1, 1), padding=(1, 1), bias=False)\n",
            "      (bn1): BatchNorm2d(16, eps=1e-05, momentum=0.1, affine=True, track_running_stats=True)\n",
            "      (relu1): ReLU(inplace=True)\n",
            "      (conv2): Conv2d(16, 16, kernel_size=(3, 3), stride=(1, 1), padding=(1, 1), bias=False)\n",
            "      (bn2): BatchNorm2d(16, eps=1e-05, momentum=0.1, affine=True, track_running_stats=True)\n",
            "      (relu2): ReLU(inplace=True)\n",
            "    )\n",
            "    (1): BasicBlock(\n",
            "      (conv1): Conv2d(16, 16, kernel_size=(3, 3), stride=(1, 1), padding=(1, 1), bias=False)\n",
            "      (bn1): BatchNorm2d(16, eps=1e-05, momentum=0.1, affine=True, track_running_stats=True)\n",
            "      (relu1): ReLU(inplace=True)\n",
            "      (conv2): Conv2d(16, 16, kernel_size=(3, 3), stride=(1, 1), padding=(1, 1), bias=False)\n",
            "      (bn2): BatchNorm2d(16, eps=1e-05, momentum=0.1, affine=True, track_running_stats=True)\n",
            "      (relu2): ReLU(inplace=True)\n",
            "    )\n",
            "    (2): BasicBlock(\n",
            "      (conv1): Conv2d(16, 16, kernel_size=(3, 3), stride=(1, 1), padding=(1, 1), bias=False)\n",
            "      (bn1): BatchNorm2d(16, eps=1e-05, momentum=0.1, affine=True, track_running_stats=True)\n",
            "      (relu1): ReLU(inplace=True)\n",
            "      (conv2): Conv2d(16, 16, kernel_size=(3, 3), stride=(1, 1), padding=(1, 1), bias=False)\n",
            "      (bn2): BatchNorm2d(16, eps=1e-05, momentum=0.1, affine=True, track_running_stats=True)\n",
            "      (relu2): ReLU(inplace=True)\n",
            "    )\n",
            "  )\n",
            "  (layer2): Sequential(\n",
            "    (0): BasicBlock(\n",
            "      (conv1): Conv2d(16, 32, kernel_size=(3, 3), stride=(2, 2), padding=(1, 1), bias=False)\n",
            "      (bn1): BatchNorm2d(32, eps=1e-05, momentum=0.1, affine=True, track_running_stats=True)\n",
            "      (relu1): ReLU(inplace=True)\n",
            "      (conv2): Conv2d(32, 32, kernel_size=(3, 3), stride=(1, 1), padding=(1, 1), bias=False)\n",
            "      (bn2): BatchNorm2d(32, eps=1e-05, momentum=0.1, affine=True, track_running_stats=True)\n",
            "      (relu2): ReLU(inplace=True)\n",
            "      (downsample): Sequential(\n",
            "        (0): Conv2d(16, 32, kernel_size=(1, 1), stride=(2, 2), bias=False)\n",
            "        (1): BatchNorm2d(32, eps=1e-05, momentum=0.1, affine=True, track_running_stats=True)\n",
            "      )\n",
            "    )\n",
            "    (1): BasicBlock(\n",
            "      (conv1): Conv2d(32, 32, kernel_size=(3, 3), stride=(1, 1), padding=(1, 1), bias=False)\n",
            "      (bn1): BatchNorm2d(32, eps=1e-05, momentum=0.1, affine=True, track_running_stats=True)\n",
            "      (relu1): ReLU(inplace=True)\n",
            "      (conv2): Conv2d(32, 32, kernel_size=(3, 3), stride=(1, 1), padding=(1, 1), bias=False)\n",
            "      (bn2): BatchNorm2d(32, eps=1e-05, momentum=0.1, affine=True, track_running_stats=True)\n",
            "      (relu2): ReLU(inplace=True)\n",
            "    )\n",
            "    (2): BasicBlock(\n",
            "      (conv1): Conv2d(32, 32, kernel_size=(3, 3), stride=(1, 1), padding=(1, 1), bias=False)\n",
            "      (bn1): BatchNorm2d(32, eps=1e-05, momentum=0.1, affine=True, track_running_stats=True)\n",
            "      (relu1): ReLU(inplace=True)\n",
            "      (conv2): Conv2d(32, 32, kernel_size=(3, 3), stride=(1, 1), padding=(1, 1), bias=False)\n",
            "      (bn2): BatchNorm2d(32, eps=1e-05, momentum=0.1, affine=True, track_running_stats=True)\n",
            "      (relu2): ReLU(inplace=True)\n",
            "    )\n",
            "  )\n",
            "  (layer3): Sequential(\n",
            "    (0): BasicBlock(\n",
            "      (conv1): Conv2d(32, 64, kernel_size=(3, 3), stride=(2, 2), padding=(1, 1), bias=False)\n",
            "      (bn1): BatchNorm2d(64, eps=1e-05, momentum=0.1, affine=True, track_running_stats=True)\n",
            "      (relu1): ReLU(inplace=True)\n",
            "      (conv2): Conv2d(64, 64, kernel_size=(3, 3), stride=(1, 1), padding=(1, 1), bias=False)\n",
            "      (bn2): BatchNorm2d(64, eps=1e-05, momentum=0.1, affine=True, track_running_stats=True)\n",
            "      (relu2): ReLU(inplace=True)\n",
            "      (downsample): Sequential(\n",
            "        (0): Conv2d(32, 64, kernel_size=(1, 1), stride=(2, 2), bias=False)\n",
            "        (1): BatchNorm2d(64, eps=1e-05, momentum=0.1, affine=True, track_running_stats=True)\n",
            "      )\n",
            "    )\n",
            "    (1): BasicBlock(\n",
            "      (conv1): Conv2d(64, 64, kernel_size=(3, 3), stride=(1, 1), padding=(1, 1), bias=False)\n",
            "      (bn1): BatchNorm2d(64, eps=1e-05, momentum=0.1, affine=True, track_running_stats=True)\n",
            "      (relu1): ReLU(inplace=True)\n",
            "      (conv2): Conv2d(64, 64, kernel_size=(3, 3), stride=(1, 1), padding=(1, 1), bias=False)\n",
            "      (bn2): BatchNorm2d(64, eps=1e-05, momentum=0.1, affine=True, track_running_stats=True)\n",
            "      (relu2): ReLU(inplace=True)\n",
            "    )\n",
            "    (2): BasicBlock(\n",
            "      (conv1): Conv2d(64, 64, kernel_size=(3, 3), stride=(1, 1), padding=(1, 1), bias=False)\n",
            "      (bn1): BatchNorm2d(64, eps=1e-05, momentum=0.1, affine=True, track_running_stats=True)\n",
            "      (relu1): ReLU(inplace=True)\n",
            "      (conv2): Conv2d(64, 64, kernel_size=(3, 3), stride=(1, 1), padding=(1, 1), bias=False)\n",
            "      (bn2): BatchNorm2d(64, eps=1e-05, momentum=0.1, affine=True, track_running_stats=True)\n",
            "      (relu2): ReLU(inplace=True)\n",
            "    )\n",
            "  )\n",
            "  (avgpool): AdaptiveAvgPool2d(output_size=(1, 1))\n",
            "  (fc): Linear(in_features=64, out_features=10, bias=True)\n",
            ")\n"
          ]
        },
        {
          "output_type": "stream",
          "name": "stderr",
          "text": [
            "\n"
          ]
        }
      ],
      "source": [
        "from rrelu.setup import build_model\n",
        "model = build_model(name='resnet20',dataset='cifar10',\n",
        "                    n_classes=n_classes)\n",
        "print(model)"
      ]
    },
    {
      "cell_type": "markdown",
      "metadata": {
        "editable": true,
        "id": "80t1r3GyFV0H",
        "tags": []
      },
      "source": [
        "## Evaluate the original Model with ReLU activation function"
      ]
    },
    {
      "cell_type": "code",
      "execution_count": null,
      "metadata": {
        "editable": true,
        "id": "QvLd8MXGZ-FQ",
        "tags": [],
        "colab": {
          "base_uri": "https://localhost:8080/"
        },
        "outputId": "c9509ceb-dd5e-4056-a1ed-ecdf651e1fcd"
      },
      "outputs": [
        {
          "output_type": "stream",
          "name": "stderr",
          "text": [
            "Eval: 100%|██████████| 79/79 [00:04<00:00, 16.54it/s, loss=0.282, top1=92.6, top5=99.8, #samples=1e+4, batch_size=16, img_size=32]"
          ]
        },
        {
          "output_type": "stream",
          "name": "stdout",
          "text": [
            "{'val_top1': 92.5999984741211, 'val_top5': 99.80999755859375, 'val_loss': 0.28152209520339966}\n"
          ]
        },
        {
          "output_type": "stream",
          "name": "stderr",
          "text": [
            "\n"
          ]
        }
      ],
      "source": [
        "from metrics import eval_,eval\n",
        "\n",
        "print(eval_(model,data_loader_dict,'cuda'))\n"
      ]
    },
    {
      "cell_type": "markdown",
      "metadata": {
        "editable": true,
        "id": "lLo_Y9nVFg0F",
        "tags": []
      },
      "source": [
        "## Convert Floating-Point weight values to the Fixed-Point"
      ]
    },
    {
      "cell_type": "code",
      "execution_count": null,
      "metadata": {
        "editable": true,
        "id": "EFI9829ndBEf",
        "tags": []
      },
      "outputs": [],
      "source": [
        "import torch\n",
        "from fxpmath import Fxp\n",
        "with torch.no_grad():\n",
        "    for name, param in model.named_parameters():\n",
        "        if param is not None:\n",
        "            param.copy_(torch.tensor(Fxp(param.clone().cpu().numpy(),\n",
        "                    True, n_word=32, n_frac=16, n_int=15).get_val(),\n",
        "                                     dtype=torch.float32,device='cpu'))"
      ]
    },
    {
      "cell_type": "markdown",
      "metadata": {
        "editable": true,
        "id": "OMHMJPbCFrLX",
        "tags": []
      },
      "source": [
        "## Evaluate the Fixed-Point Model"
      ]
    },
    {
      "cell_type": "code",
      "execution_count": null,
      "metadata": {
        "editable": true,
        "id": "pppiGxmodT6k",
        "tags": [],
        "colab": {
          "base_uri": "https://localhost:8080/"
        },
        "outputId": "d633773d-8d2e-43b0-81d0-f864e03190b5"
      },
      "outputs": [
        {
          "output_type": "stream",
          "name": "stderr",
          "text": [
            "Eval: 100%|██████████| 79/79 [00:03<00:00, 21.38it/s, loss=0.281, top1=92.6, top5=99.8, #samples=1e+4, batch_size=16, img_size=32]"
          ]
        },
        {
          "output_type": "stream",
          "name": "stdout",
          "text": [
            "{'val_top1': 92.58999633789062, 'val_top5': 99.80999755859375, 'val_loss': 0.28144311904907227}\n"
          ]
        },
        {
          "output_type": "stream",
          "name": "stderr",
          "text": [
            "\n"
          ]
        }
      ],
      "source": [
        "print(eval_(model, data_loader_dict,'cuda'))"
      ]
    },
    {
      "cell_type": "markdown",
      "metadata": {
        "editable": true,
        "id": "ve0XhpFDF3yd",
        "tags": []
      },
      "source": [
        "## Evaluating Reliability of the model"
      ]
    },
    {
      "cell_type": "code",
      "execution_count": null,
      "metadata": {
        "editable": true,
        "id": "YNhB75ncF9sk",
        "tags": [],
        "colab": {
          "base_uri": "https://localhost:8080/"
        },
        "outputId": "e3eda83d-f600-4b4c-839e-38d09400f3a4"
      },
      "outputs": [
        {
          "output_type": "stream",
          "name": "stdout",
          "text": [
            "============================ PYTORCHFI INIT SUMMARY ==============================\n",
            "\n",
            "Layer types allowing injections:\n",
            "----------------------------------------------------------------------------------\n",
            "   - Conv2d\n",
            "   - Linear\n",
            "   - Relu_bound\n",
            "\n",
            "Model Info:\n",
            "----------------------------------------------------------------------------------\n",
            "   - Shape of input into the model: (3 32 32 )\n",
            "   - Batch Size: 128\n",
            "   - CUDA Enabled: True\n",
            "\n",
            "Layer Info:\n",
            "----------------------------------------------------------------------------------\n",
            "Layer #                           Layer type  Dimensions         Weight Shape         Output Shape           Bias Shape\n",
            "----------------------------------------------------------------------------------\n",
            "    0                               Conv2d           4        [16, 3, 3, 3]      [1, 16, 32, 32]               [None]\n",
            "    1                               Conv2d           4       [16, 16, 3, 3]      [1, 16, 32, 32]               [None]\n",
            "    2                               Conv2d           4       [16, 16, 3, 3]      [1, 16, 32, 32]               [None]\n",
            "    3                               Conv2d           4       [16, 16, 3, 3]      [1, 16, 32, 32]               [None]\n",
            "    4                               Conv2d           4       [16, 16, 3, 3]      [1, 16, 32, 32]               [None]\n",
            "    5                               Conv2d           4       [16, 16, 3, 3]      [1, 16, 32, 32]               [None]\n",
            "    6                               Conv2d           4       [16, 16, 3, 3]      [1, 16, 32, 32]               [None]\n",
            "    7                               Conv2d           4       [32, 16, 3, 3]      [1, 32, 16, 16]               [None]\n",
            "    8                               Conv2d           4       [32, 32, 3, 3]      [1, 32, 16, 16]               [None]\n",
            "    9                               Conv2d           4       [32, 16, 1, 1]      [1, 32, 16, 16]               [None]\n",
            "   10                               Conv2d           4       [32, 32, 3, 3]      [1, 32, 16, 16]               [None]\n",
            "   11                               Conv2d           4       [32, 32, 3, 3]      [1, 32, 16, 16]               [None]\n",
            "   12                               Conv2d           4       [32, 32, 3, 3]      [1, 32, 16, 16]               [None]\n",
            "   13                               Conv2d           4       [32, 32, 3, 3]      [1, 32, 16, 16]               [None]\n",
            "   14                               Conv2d           4       [64, 32, 3, 3]        [1, 64, 8, 8]               [None]\n",
            "   15                               Conv2d           4       [64, 64, 3, 3]        [1, 64, 8, 8]               [None]\n",
            "   16                               Conv2d           4       [64, 32, 1, 1]        [1, 64, 8, 8]               [None]\n",
            "   17                               Conv2d           4       [64, 64, 3, 3]        [1, 64, 8, 8]               [None]\n",
            "   18                               Conv2d           4       [64, 64, 3, 3]        [1, 64, 8, 8]               [None]\n",
            "   19                               Conv2d           4       [64, 64, 3, 3]        [1, 64, 8, 8]               [None]\n",
            "   20                               Conv2d           4       [64, 64, 3, 3]        [1, 64, 8, 8]               [None]\n",
            "   21                               Linear           2             [10, 64]              [1, 10]                 [10]\n",
            "==================================================================================\n",
            "\n"
          ]
        },
        {
          "output_type": "stream",
          "name": "stderr",
          "text": [
            "Eval: 100%|██████████| 5/5 [00:20<00:00,  4.17s/it, loss=7.91e+4, top1=56.3, top5=79.9, #samples=5e+4, batch_size=16, img_size=32, fault_rate=1e-6]"
          ]
        },
        {
          "output_type": "stream",
          "name": "stdout",
          "text": [
            "{'val_top1': 56.26199722290039, 'val_top5': 79.9000015258789, 'val_loss': 79125.90625, 'fault_rate': 1e-06}\n"
          ]
        },
        {
          "output_type": "stream",
          "name": "stderr",
          "text": [
            "\n"
          ]
        }
      ],
      "source": [
        "from metrics import eval_fault_\n",
        "print(eval_fault_(model, data_loader_dict,\n",
        "                     1e-6, bitflip='fixed',iterations=5,device='cuda'))"
      ]
    },
    {
      "cell_type": "markdown",
      "metadata": {
        "editable": true,
        "id": "Cx5r1kD4GYFU",
        "tags": []
      },
      "source": [
        "## Build the model with Reliable ReLU"
      ]
    },
    {
      "cell_type": "code",
      "execution_count": null,
      "metadata": {
        "editable": true,
        "id": "RiGcJU1HdZuo",
        "tags": [],
        "colab": {
          "base_uri": "https://localhost:8080/",
          "height": 602
        },
        "outputId": "0e33b642-2d85-4863-9faa-a79d818aedb7"
      },
      "outputs": [
        {
          "output_type": "stream",
          "name": "stderr",
          "text": [
            "Eval: 100%|██████████| 79/79 [00:02<00:00, 26.38it/s, loss=0.282, top1=92.6, top5=99.8, #samples=1e+4, batch_size=16, img_size=32]\n"
          ]
        },
        {
          "output_type": "stream",
          "name": "stdout",
          "text": [
            "92.57999420166016\n",
            "the best accuracy is :92.57999420166016\n",
            "layer3.2.relu2.bounds_param\n",
            "4e-05\n"
          ]
        },
        {
          "output_type": "stream",
          "name": "stderr",
          "text": [
            "Train Epoch #1:  36%|███▋      | 142/390 [00:11<00:20, 12.11it/s, loss=0.0571, top1=99.6, batch_size=128, img_size=32, lr=0.01, data_time=0.00646]\n"
          ]
        },
        {
          "output_type": "error",
          "ename": "KeyboardInterrupt",
          "evalue": "",
          "traceback": [
            "\u001b[0;31m---------------------------------------------------------------------------\u001b[0m",
            "\u001b[0;31mKeyboardInterrupt\u001b[0m                         Traceback (most recent call last)",
            "\u001b[0;32m<ipython-input-8-795bea707d36>\u001b[0m in \u001b[0;36m<cell line: 0>\u001b[0;34m()\u001b[0m\n\u001b[1;32m      1\u001b[0m \u001b[0;32mfrom\u001b[0m \u001b[0mrrelu\u001b[0m\u001b[0;34m.\u001b[0m\u001b[0msetup\u001b[0m \u001b[0;32mimport\u001b[0m \u001b[0mreplace_act\u001b[0m\u001b[0;34m\u001b[0m\u001b[0;34m\u001b[0m\u001b[0m\n\u001b[1;32m      2\u001b[0m \u001b[0;32mfrom\u001b[0m \u001b[0mmetrics\u001b[0m \u001b[0;32mimport\u001b[0m \u001b[0meval_fault_\u001b[0m\u001b[0;34m\u001b[0m\u001b[0;34m\u001b[0m\u001b[0m\n\u001b[0;32m----> 3\u001b[0;31m model = replace_act(model, 'zero', 'proact', data_loader_dict,\n\u001b[0m\u001b[1;32m      4\u001b[0m                     'layer', 'fixed',False ,'cifar10',is_root=True,device='cuda')\n\u001b[1;32m      5\u001b[0m print(eval_fault_(model, data_loader_dict, 1e-6,\n",
            "\u001b[0;32m/content/reliable-relu-toolbox/rrelu/setup.py\u001b[0m in \u001b[0;36mreplace_act\u001b[0;34m(model, name_relu_bound, name_serach_bound, data_loader, bound_type, bitflip, pretrained, dataset, is_root, device)\u001b[0m\n\u001b[1;32m    385\u001b[0m                             \u001b[0mtresh\u001b[0m\u001b[0;34m[\u001b[0m\u001b[0mkey\u001b[0m\u001b[0;34m]\u001b[0m \u001b[0;34m=\u001b[0m \u001b[0mtorch\u001b[0m\u001b[0;34m.\u001b[0m\u001b[0mmin\u001b[0m\u001b[0;34m(\u001b[0m\u001b[0mtresh\u001b[0m\u001b[0;34m[\u001b[0m\u001b[0mkey\u001b[0m\u001b[0;34m]\u001b[0m\u001b[0;34m)\u001b[0m\u001b[0;34m\u001b[0m\u001b[0;34m\u001b[0m\u001b[0m\n\u001b[1;32m    386\u001b[0m     \u001b[0;32melse\u001b[0m\u001b[0;34m:\u001b[0m\u001b[0;34m\u001b[0m\u001b[0;34m\u001b[0m\u001b[0m\n\u001b[0;32m--> 387\u001b[0;31m         \u001b[0mbounds\u001b[0m\u001b[0;34m,\u001b[0m\u001b[0mtresh\u001b[0m\u001b[0;34m,\u001b[0m\u001b[0malpha\u001b[0m \u001b[0;34m=\u001b[0m \u001b[0mfind_bounds\u001b[0m\u001b[0;34m(\u001b[0m\u001b[0mcopy\u001b[0m\u001b[0;34m.\u001b[0m\u001b[0mdeepcopy\u001b[0m\u001b[0;34m(\u001b[0m\u001b[0mmodel\u001b[0m\u001b[0;34m)\u001b[0m\u001b[0;34m,\u001b[0m\u001b[0mdata_loader\u001b[0m\u001b[0;34m,\u001b[0m\u001b[0mname_serach_bound\u001b[0m\u001b[0;34m,\u001b[0m\u001b[0mbound_type\u001b[0m\u001b[0;34m,\u001b[0m\u001b[0mbitflip\u001b[0m\u001b[0;34m,\u001b[0m\u001b[0mis_root\u001b[0m\u001b[0;34m,\u001b[0m\u001b[0mdevice\u001b[0m\u001b[0;34m=\u001b[0m\u001b[0mdevice\u001b[0m\u001b[0;34m)\u001b[0m\u001b[0;34m\u001b[0m\u001b[0;34m\u001b[0m\u001b[0m\n\u001b[0m\u001b[1;32m    388\u001b[0m     \u001b[0mmodel\u001b[0m \u001b[0;34m=\u001b[0m \u001b[0mreplace_act_all\u001b[0m\u001b[0;34m(\u001b[0m\u001b[0mmodel\u001b[0m\u001b[0;34m,\u001b[0m\u001b[0mreplace_act_dict\u001b[0m\u001b[0;34m[\u001b[0m\u001b[0mname_relu_bound\u001b[0m\u001b[0;34m]\u001b[0m\u001b[0;34m,\u001b[0m\u001b[0mbounds\u001b[0m\u001b[0;34m,\u001b[0m\u001b[0mtresh\u001b[0m\u001b[0;34m,\u001b[0m\u001b[0malpha\u001b[0m\u001b[0;34m,\u001b[0m\u001b[0mprefix\u001b[0m\u001b[0;34m=\u001b[0m\u001b[0;34m''\u001b[0m\u001b[0;34m,\u001b[0m\u001b[0mdevice\u001b[0m\u001b[0;34m=\u001b[0m\u001b[0mdevice\u001b[0m\u001b[0;34m)\u001b[0m\u001b[0;34m\u001b[0m\u001b[0;34m\u001b[0m\u001b[0m\n\u001b[1;32m    389\u001b[0m     \u001b[0;32mreturn\u001b[0m \u001b[0mmodel\u001b[0m\u001b[0;34m\u001b[0m\u001b[0;34m\u001b[0m\u001b[0m\n",
            "\u001b[0;32m/content/reliable-relu-toolbox/rrelu/setup.py\u001b[0m in \u001b[0;36mfind_bounds\u001b[0;34m(model, data_loader, name, bound_type, bitflip, is_root, device)\u001b[0m\n\u001b[1;32m    329\u001b[0m         \u001b[0;34m'proact'\u001b[0m  \u001b[0;34m:\u001b[0m \u001b[0mproact_bounds\u001b[0m\u001b[0;34m\u001b[0m\u001b[0;34m\u001b[0m\u001b[0m\n\u001b[1;32m    330\u001b[0m     }\n\u001b[0;32m--> 331\u001b[0;31m     \u001b[0;32mreturn\u001b[0m \u001b[0msearch_bounds_dict\u001b[0m\u001b[0;34m[\u001b[0m\u001b[0mname\u001b[0m\u001b[0;34m]\u001b[0m\u001b[0;34m(\u001b[0m\u001b[0mmodel\u001b[0m\u001b[0;34m,\u001b[0m\u001b[0mdata_loader\u001b[0m\u001b[0;34m,\u001b[0m\u001b[0mbound_type\u001b[0m\u001b[0;34m=\u001b[0m\u001b[0mbound_type\u001b[0m\u001b[0;34m,\u001b[0m\u001b[0mbitflip\u001b[0m\u001b[0;34m=\u001b[0m\u001b[0mbitflip\u001b[0m\u001b[0;34m,\u001b[0m\u001b[0mis_root\u001b[0m \u001b[0;34m=\u001b[0m \u001b[0mis_root\u001b[0m\u001b[0;34m,\u001b[0m\u001b[0mdevice\u001b[0m\u001b[0;34m=\u001b[0m\u001b[0mdevice\u001b[0m\u001b[0;34m)\u001b[0m\u001b[0;34m\u001b[0m\u001b[0;34m\u001b[0m\u001b[0m\n\u001b[0m\u001b[1;32m    332\u001b[0m \u001b[0;34m\u001b[0m\u001b[0m\n\u001b[1;32m    333\u001b[0m \u001b[0;32mdef\u001b[0m \u001b[0mreplace_act_all\u001b[0m\u001b[0;34m(\u001b[0m\u001b[0mmodel\u001b[0m\u001b[0;34m:\u001b[0m\u001b[0mnn\u001b[0m\u001b[0;34m.\u001b[0m\u001b[0mModule\u001b[0m\u001b[0;34m,\u001b[0m\u001b[0mrelu_bound\u001b[0m\u001b[0;34m,\u001b[0m\u001b[0mbounds\u001b[0m\u001b[0;34m,\u001b[0m\u001b[0mtresh\u001b[0m\u001b[0;34m,\u001b[0m\u001b[0malpha\u001b[0m\u001b[0;34m=\u001b[0m\u001b[0;32mNone\u001b[0m\u001b[0;34m,\u001b[0m \u001b[0mprefix\u001b[0m\u001b[0;34m=\u001b[0m\u001b[0;34m''\u001b[0m\u001b[0;34m,\u001b[0m\u001b[0mdevice\u001b[0m\u001b[0;34m=\u001b[0m\u001b[0;34m'cuda'\u001b[0m\u001b[0;34m)\u001b[0m\u001b[0;34m->\u001b[0m\u001b[0mnn\u001b[0m\u001b[0;34m.\u001b[0m\u001b[0mModule\u001b[0m\u001b[0;34m:\u001b[0m\u001b[0;34m\u001b[0m\u001b[0;34m\u001b[0m\u001b[0m\n",
            "\u001b[0;32m/content/reliable-relu-toolbox/rrelu/search_bound/proact.py\u001b[0m in \u001b[0;36mproact_bounds\u001b[0;34m(model, train_loader, bound_type, bitflip, is_root, device)\u001b[0m\n\u001b[1;32m    161\u001b[0m \u001b[0;34m\u001b[0m\u001b[0m\n\u001b[1;32m    162\u001b[0m     \u001b[0mweight_decay_list\u001b[0m \u001b[0;34m=\u001b[0m\u001b[0;34m[\u001b[0m\u001b[0;36m4e-5\u001b[0m\u001b[0;34m,\u001b[0m\u001b[0;36m4e-6\u001b[0m\u001b[0;34m,\u001b[0m\u001b[0;36m4e-7\u001b[0m\u001b[0;34m,\u001b[0m\u001b[0;36m4e-8\u001b[0m\u001b[0;34m,\u001b[0m\u001b[0;36m4e-9\u001b[0m\u001b[0;34m,\u001b[0m\u001b[0;36m4e-10\u001b[0m\u001b[0;34m,\u001b[0m\u001b[0;36m4e-11\u001b[0m\u001b[0;34m,\u001b[0m\u001b[0;36m4e-12\u001b[0m\u001b[0;34m,\u001b[0m\u001b[0;36m4e-13\u001b[0m\u001b[0;34m,\u001b[0m\u001b[0;36m4e-14\u001b[0m\u001b[0;34m,\u001b[0m\u001b[0;36m4e-15\u001b[0m\u001b[0;34m]\u001b[0m\u001b[0;34m\u001b[0m\u001b[0;34m\u001b[0m\u001b[0m\n\u001b[0;32m--> 163\u001b[0;31m     \u001b[0mmodel\u001b[0m \u001b[0;34m=\u001b[0m \u001b[0mtrain\u001b[0m\u001b[0;34m(\u001b[0m\u001b[0mmodel\u001b[0m\u001b[0;34m=\u001b[0m\u001b[0mmodel\u001b[0m\u001b[0;34m,\u001b[0m\u001b[0moriginal_model\u001b[0m\u001b[0;34m=\u001b[0m\u001b[0moriginal_model\u001b[0m\u001b[0;34m,\u001b[0m\u001b[0mdata_provider\u001b[0m\u001b[0;34m=\u001b[0m\u001b[0mtrain_loader\u001b[0m\u001b[0;34m,\u001b[0m\u001b[0mweight_decay_list\u001b[0m\u001b[0;34m=\u001b[0m\u001b[0mweight_decay_list\u001b[0m\u001b[0;34m,\u001b[0m\u001b[0mbound_type\u001b[0m\u001b[0;34m=\u001b[0m\u001b[0mbound_type\u001b[0m\u001b[0;34m,\u001b[0m\u001b[0mbitflip\u001b[0m\u001b[0;34m=\u001b[0m\u001b[0mbitflip\u001b[0m\u001b[0;34m,\u001b[0m\u001b[0mis_root\u001b[0m\u001b[0;34m=\u001b[0m\u001b[0mis_root\u001b[0m\u001b[0;34m,\u001b[0m\u001b[0mdevice\u001b[0m\u001b[0;34m=\u001b[0m\u001b[0mdevice\u001b[0m\u001b[0;34m)\u001b[0m\u001b[0;34m\u001b[0m\u001b[0;34m\u001b[0m\u001b[0m\n\u001b[0m\u001b[1;32m    164\u001b[0m     \u001b[0mmodel\u001b[0m\u001b[0;34m.\u001b[0m\u001b[0mload_state_dict\u001b[0m\u001b[0;34m(\u001b[0m\u001b[0mtorch\u001b[0m\u001b[0;34m.\u001b[0m\u001b[0mload\u001b[0m\u001b[0;34m(\u001b[0m\u001b[0;34m\"temp_{}_{}_{}.pth\"\u001b[0m\u001b[0;34m.\u001b[0m\u001b[0mformat\u001b[0m\u001b[0;34m(\u001b[0m\u001b[0mbound_type\u001b[0m\u001b[0;34m,\u001b[0m\u001b[0mbitflip\u001b[0m\u001b[0;34m,\u001b[0m\u001b[0moriginal_model\u001b[0m\u001b[0;34m.\u001b[0m\u001b[0m__class__\u001b[0m\u001b[0;34m.\u001b[0m\u001b[0m__name__\u001b[0m\u001b[0;34m)\u001b[0m\u001b[0;34m)\u001b[0m\u001b[0;34m)\u001b[0m\u001b[0;34m\u001b[0m\u001b[0;34m\u001b[0m\u001b[0m\n\u001b[1;32m    165\u001b[0m     \u001b[0;32mfor\u001b[0m \u001b[0mname\u001b[0m\u001b[0;34m,\u001b[0m \u001b[0mparam\u001b[0m \u001b[0;32min\u001b[0m \u001b[0mmodel\u001b[0m\u001b[0;34m.\u001b[0m\u001b[0mnamed_parameters\u001b[0m\u001b[0;34m(\u001b[0m\u001b[0;34m)\u001b[0m\u001b[0;34m:\u001b[0m\u001b[0;34m\u001b[0m\u001b[0;34m\u001b[0m\u001b[0m\n",
            "\u001b[0;32m/content/reliable-relu-toolbox/rrelu/search_bound/proact.py\u001b[0m in \u001b[0;36mtrain\u001b[0;34m(model, original_model, data_provider, weight_decay_list, base_lr, warmup_epochs, n_epochs, treshold, bound_type, bitflip, is_root, device)\u001b[0m\n\u001b[1;32m    288\u001b[0m             ):\n\u001b[1;32m    289\u001b[0m \u001b[0;34m\u001b[0m\u001b[0m\n\u001b[0;32m--> 290\u001b[0;31m                 train_info_dict = train_one_epoch(\n\u001b[0m\u001b[1;32m    291\u001b[0m                     \u001b[0mmodel\u001b[0m\u001b[0;34m,\u001b[0m\u001b[0;34m\u001b[0m\u001b[0;34m\u001b[0m\u001b[0m\n\u001b[1;32m    292\u001b[0m                     \u001b[0moriginal_model\u001b[0m\u001b[0;34m,\u001b[0m\u001b[0;34m\u001b[0m\u001b[0;34m\u001b[0m\u001b[0m\n",
            "\u001b[0;32m/content/reliable-relu-toolbox/rrelu/search_bound/proact.py\u001b[0m in \u001b[0;36mtrain_one_epoch\u001b[0;34m(model, original_model, data_provider, is_root, epoch, optimizer, criterion, lr_scheduler, device)\u001b[0m\n\u001b[1;32m    368\u001b[0m                         \u001b[0mnat_logits\u001b[0m\u001b[0;34m,\u001b[0m\u001b[0mteacher_logits\u001b[0m\u001b[0;34m\u001b[0m\u001b[0;34m\u001b[0m\u001b[0m\n\u001b[1;32m    369\u001b[0m                     )\n\u001b[0;32m--> 370\u001b[0;31m             \u001b[0mnat_logits\u001b[0m \u001b[0;34m=\u001b[0m \u001b[0mmodel\u001b[0m\u001b[0;34m(\u001b[0m\u001b[0mimages\u001b[0m\u001b[0;34m)\u001b[0m\u001b[0;34m\u001b[0m\u001b[0;34m\u001b[0m\u001b[0m\n\u001b[0m\u001b[1;32m    371\u001b[0m             \u001b[0mloss\u001b[0m \u001b[0;34m=\u001b[0m   \u001b[0mcriterion\u001b[0m\u001b[0;34m(\u001b[0m\u001b[0mnat_logits\u001b[0m\u001b[0;34m,\u001b[0m\u001b[0mlabels\u001b[0m\u001b[0;34m)\u001b[0m \u001b[0;34m+\u001b[0m \u001b[0mkd_loss\u001b[0m \u001b[0;31m#  +  wd * l2_bounds #+ 0.1 * k_loss #\u001b[0m\u001b[0;34m\u001b[0m\u001b[0;34m\u001b[0m\u001b[0m\n\u001b[1;32m    372\u001b[0m             \u001b[0mloss\u001b[0m\u001b[0;34m.\u001b[0m\u001b[0mbackward\u001b[0m\u001b[0;34m(\u001b[0m\u001b[0;34m)\u001b[0m\u001b[0;34m\u001b[0m\u001b[0;34m\u001b[0m\u001b[0m\n",
            "\u001b[0;32m/usr/local/lib/python3.11/dist-packages/torch/nn/modules/module.py\u001b[0m in \u001b[0;36m_wrapped_call_impl\u001b[0;34m(self, *args, **kwargs)\u001b[0m\n\u001b[1;32m   1737\u001b[0m             \u001b[0;32mreturn\u001b[0m \u001b[0mself\u001b[0m\u001b[0;34m.\u001b[0m\u001b[0m_compiled_call_impl\u001b[0m\u001b[0;34m(\u001b[0m\u001b[0;34m*\u001b[0m\u001b[0margs\u001b[0m\u001b[0;34m,\u001b[0m \u001b[0;34m**\u001b[0m\u001b[0mkwargs\u001b[0m\u001b[0;34m)\u001b[0m  \u001b[0;31m# type: ignore[misc]\u001b[0m\u001b[0;34m\u001b[0m\u001b[0;34m\u001b[0m\u001b[0m\n\u001b[1;32m   1738\u001b[0m         \u001b[0;32melse\u001b[0m\u001b[0;34m:\u001b[0m\u001b[0;34m\u001b[0m\u001b[0;34m\u001b[0m\u001b[0m\n\u001b[0;32m-> 1739\u001b[0;31m             \u001b[0;32mreturn\u001b[0m \u001b[0mself\u001b[0m\u001b[0;34m.\u001b[0m\u001b[0m_call_impl\u001b[0m\u001b[0;34m(\u001b[0m\u001b[0;34m*\u001b[0m\u001b[0margs\u001b[0m\u001b[0;34m,\u001b[0m \u001b[0;34m**\u001b[0m\u001b[0mkwargs\u001b[0m\u001b[0;34m)\u001b[0m\u001b[0;34m\u001b[0m\u001b[0;34m\u001b[0m\u001b[0m\n\u001b[0m\u001b[1;32m   1740\u001b[0m \u001b[0;34m\u001b[0m\u001b[0m\n\u001b[1;32m   1741\u001b[0m     \u001b[0;31m# torchrec tests the code consistency with the following code\u001b[0m\u001b[0;34m\u001b[0m\u001b[0;34m\u001b[0m\u001b[0m\n",
            "\u001b[0;32m/usr/local/lib/python3.11/dist-packages/torch/nn/modules/module.py\u001b[0m in \u001b[0;36m_call_impl\u001b[0;34m(self, *args, **kwargs)\u001b[0m\n\u001b[1;32m   1748\u001b[0m                 \u001b[0;32mor\u001b[0m \u001b[0m_global_backward_pre_hooks\u001b[0m \u001b[0;32mor\u001b[0m \u001b[0m_global_backward_hooks\u001b[0m\u001b[0;34m\u001b[0m\u001b[0;34m\u001b[0m\u001b[0m\n\u001b[1;32m   1749\u001b[0m                 or _global_forward_hooks or _global_forward_pre_hooks):\n\u001b[0;32m-> 1750\u001b[0;31m             \u001b[0;32mreturn\u001b[0m \u001b[0mforward_call\u001b[0m\u001b[0;34m(\u001b[0m\u001b[0;34m*\u001b[0m\u001b[0margs\u001b[0m\u001b[0;34m,\u001b[0m \u001b[0;34m**\u001b[0m\u001b[0mkwargs\u001b[0m\u001b[0;34m)\u001b[0m\u001b[0;34m\u001b[0m\u001b[0;34m\u001b[0m\u001b[0m\n\u001b[0m\u001b[1;32m   1751\u001b[0m \u001b[0;34m\u001b[0m\u001b[0m\n\u001b[1;32m   1752\u001b[0m         \u001b[0mresult\u001b[0m \u001b[0;34m=\u001b[0m \u001b[0;32mNone\u001b[0m\u001b[0;34m\u001b[0m\u001b[0;34m\u001b[0m\u001b[0m\n",
            "\u001b[0;32m/content/reliable-relu-toolbox/rrelu/models_cifar/resnet.py\u001b[0m in \u001b[0;36mforward\u001b[0;34m(self, x)\u001b[0m\n\u001b[1;32m    156\u001b[0m             \u001b[0mx\u001b[0m \u001b[0;34m=\u001b[0m \u001b[0mblock\u001b[0m\u001b[0;34m(\u001b[0m\u001b[0mx\u001b[0m\u001b[0;34m)\u001b[0m\u001b[0;34m\u001b[0m\u001b[0;34m\u001b[0m\u001b[0m\n\u001b[1;32m    157\u001b[0m         \u001b[0;32mfor\u001b[0m \u001b[0mi\u001b[0m\u001b[0;34m,\u001b[0m \u001b[0mblock\u001b[0m \u001b[0;32min\u001b[0m \u001b[0menumerate\u001b[0m\u001b[0;34m(\u001b[0m\u001b[0mself\u001b[0m\u001b[0;34m.\u001b[0m\u001b[0mlayer2\u001b[0m\u001b[0;34m)\u001b[0m\u001b[0;34m:\u001b[0m\u001b[0;34m\u001b[0m\u001b[0;34m\u001b[0m\u001b[0m\n\u001b[0;32m--> 158\u001b[0;31m             \u001b[0mx\u001b[0m \u001b[0;34m=\u001b[0m \u001b[0mblock\u001b[0m\u001b[0;34m(\u001b[0m\u001b[0mx\u001b[0m\u001b[0;34m)\u001b[0m\u001b[0;34m\u001b[0m\u001b[0;34m\u001b[0m\u001b[0m\n\u001b[0m\u001b[1;32m    159\u001b[0m         \u001b[0;32mfor\u001b[0m \u001b[0mi\u001b[0m\u001b[0;34m,\u001b[0m \u001b[0mblock\u001b[0m \u001b[0;32min\u001b[0m \u001b[0menumerate\u001b[0m\u001b[0;34m(\u001b[0m\u001b[0mself\u001b[0m\u001b[0;34m.\u001b[0m\u001b[0mlayer3\u001b[0m\u001b[0;34m)\u001b[0m\u001b[0;34m:\u001b[0m\u001b[0;34m\u001b[0m\u001b[0;34m\u001b[0m\u001b[0m\n\u001b[1;32m    160\u001b[0m             \u001b[0mx\u001b[0m \u001b[0;34m=\u001b[0m \u001b[0mblock\u001b[0m\u001b[0;34m(\u001b[0m\u001b[0mx\u001b[0m\u001b[0;34m)\u001b[0m\u001b[0;34m\u001b[0m\u001b[0;34m\u001b[0m\u001b[0m\n",
            "\u001b[0;32m/usr/local/lib/python3.11/dist-packages/torch/nn/modules/module.py\u001b[0m in \u001b[0;36m_wrapped_call_impl\u001b[0;34m(self, *args, **kwargs)\u001b[0m\n\u001b[1;32m   1737\u001b[0m             \u001b[0;32mreturn\u001b[0m \u001b[0mself\u001b[0m\u001b[0;34m.\u001b[0m\u001b[0m_compiled_call_impl\u001b[0m\u001b[0;34m(\u001b[0m\u001b[0;34m*\u001b[0m\u001b[0margs\u001b[0m\u001b[0;34m,\u001b[0m \u001b[0;34m**\u001b[0m\u001b[0mkwargs\u001b[0m\u001b[0;34m)\u001b[0m  \u001b[0;31m# type: ignore[misc]\u001b[0m\u001b[0;34m\u001b[0m\u001b[0;34m\u001b[0m\u001b[0m\n\u001b[1;32m   1738\u001b[0m         \u001b[0;32melse\u001b[0m\u001b[0;34m:\u001b[0m\u001b[0;34m\u001b[0m\u001b[0;34m\u001b[0m\u001b[0m\n\u001b[0;32m-> 1739\u001b[0;31m             \u001b[0;32mreturn\u001b[0m \u001b[0mself\u001b[0m\u001b[0;34m.\u001b[0m\u001b[0m_call_impl\u001b[0m\u001b[0;34m(\u001b[0m\u001b[0;34m*\u001b[0m\u001b[0margs\u001b[0m\u001b[0;34m,\u001b[0m \u001b[0;34m**\u001b[0m\u001b[0mkwargs\u001b[0m\u001b[0;34m)\u001b[0m\u001b[0;34m\u001b[0m\u001b[0;34m\u001b[0m\u001b[0m\n\u001b[0m\u001b[1;32m   1740\u001b[0m \u001b[0;34m\u001b[0m\u001b[0m\n\u001b[1;32m   1741\u001b[0m     \u001b[0;31m# torchrec tests the code consistency with the following code\u001b[0m\u001b[0;34m\u001b[0m\u001b[0;34m\u001b[0m\u001b[0m\n",
            "\u001b[0;32m/usr/local/lib/python3.11/dist-packages/torch/nn/modules/module.py\u001b[0m in \u001b[0;36m_call_impl\u001b[0;34m(self, *args, **kwargs)\u001b[0m\n\u001b[1;32m   1748\u001b[0m                 \u001b[0;32mor\u001b[0m \u001b[0m_global_backward_pre_hooks\u001b[0m \u001b[0;32mor\u001b[0m \u001b[0m_global_backward_hooks\u001b[0m\u001b[0;34m\u001b[0m\u001b[0;34m\u001b[0m\u001b[0m\n\u001b[1;32m   1749\u001b[0m                 or _global_forward_hooks or _global_forward_pre_hooks):\n\u001b[0;32m-> 1750\u001b[0;31m             \u001b[0;32mreturn\u001b[0m \u001b[0mforward_call\u001b[0m\u001b[0;34m(\u001b[0m\u001b[0;34m*\u001b[0m\u001b[0margs\u001b[0m\u001b[0;34m,\u001b[0m \u001b[0;34m**\u001b[0m\u001b[0mkwargs\u001b[0m\u001b[0;34m)\u001b[0m\u001b[0;34m\u001b[0m\u001b[0;34m\u001b[0m\u001b[0m\n\u001b[0m\u001b[1;32m   1751\u001b[0m \u001b[0;34m\u001b[0m\u001b[0m\n\u001b[1;32m   1752\u001b[0m         \u001b[0mresult\u001b[0m \u001b[0;34m=\u001b[0m \u001b[0;32mNone\u001b[0m\u001b[0;34m\u001b[0m\u001b[0;34m\u001b[0m\u001b[0m\n",
            "\u001b[0;32m/content/reliable-relu-toolbox/rrelu/models_cifar/resnet.py\u001b[0m in \u001b[0;36mforward\u001b[0;34m(self, x)\u001b[0m\n\u001b[1;32m     95\u001b[0m \u001b[0;34m\u001b[0m\u001b[0m\n\u001b[1;32m     96\u001b[0m         \u001b[0mout\u001b[0m \u001b[0;34m=\u001b[0m \u001b[0mself\u001b[0m\u001b[0;34m.\u001b[0m\u001b[0mconv2\u001b[0m\u001b[0;34m(\u001b[0m\u001b[0mout\u001b[0m\u001b[0;34m)\u001b[0m\u001b[0;34m\u001b[0m\u001b[0;34m\u001b[0m\u001b[0m\n\u001b[0;32m---> 97\u001b[0;31m         \u001b[0mout\u001b[0m \u001b[0;34m=\u001b[0m \u001b[0mself\u001b[0m\u001b[0;34m.\u001b[0m\u001b[0mbn2\u001b[0m\u001b[0;34m(\u001b[0m\u001b[0mout\u001b[0m\u001b[0;34m)\u001b[0m\u001b[0;34m\u001b[0m\u001b[0;34m\u001b[0m\u001b[0m\n\u001b[0m\u001b[1;32m     98\u001b[0m \u001b[0;34m\u001b[0m\u001b[0m\n\u001b[1;32m     99\u001b[0m         \u001b[0;32mif\u001b[0m \u001b[0mself\u001b[0m\u001b[0;34m.\u001b[0m\u001b[0mdownsample\u001b[0m \u001b[0;32mis\u001b[0m \u001b[0;32mnot\u001b[0m \u001b[0;32mNone\u001b[0m\u001b[0;34m:\u001b[0m\u001b[0;34m\u001b[0m\u001b[0;34m\u001b[0m\u001b[0m\n",
            "\u001b[0;32m/usr/local/lib/python3.11/dist-packages/torch/nn/modules/module.py\u001b[0m in \u001b[0;36m_wrapped_call_impl\u001b[0;34m(self, *args, **kwargs)\u001b[0m\n\u001b[1;32m   1737\u001b[0m             \u001b[0;32mreturn\u001b[0m \u001b[0mself\u001b[0m\u001b[0;34m.\u001b[0m\u001b[0m_compiled_call_impl\u001b[0m\u001b[0;34m(\u001b[0m\u001b[0;34m*\u001b[0m\u001b[0margs\u001b[0m\u001b[0;34m,\u001b[0m \u001b[0;34m**\u001b[0m\u001b[0mkwargs\u001b[0m\u001b[0;34m)\u001b[0m  \u001b[0;31m# type: ignore[misc]\u001b[0m\u001b[0;34m\u001b[0m\u001b[0;34m\u001b[0m\u001b[0m\n\u001b[1;32m   1738\u001b[0m         \u001b[0;32melse\u001b[0m\u001b[0;34m:\u001b[0m\u001b[0;34m\u001b[0m\u001b[0;34m\u001b[0m\u001b[0m\n\u001b[0;32m-> 1739\u001b[0;31m             \u001b[0;32mreturn\u001b[0m \u001b[0mself\u001b[0m\u001b[0;34m.\u001b[0m\u001b[0m_call_impl\u001b[0m\u001b[0;34m(\u001b[0m\u001b[0;34m*\u001b[0m\u001b[0margs\u001b[0m\u001b[0;34m,\u001b[0m \u001b[0;34m**\u001b[0m\u001b[0mkwargs\u001b[0m\u001b[0;34m)\u001b[0m\u001b[0;34m\u001b[0m\u001b[0;34m\u001b[0m\u001b[0m\n\u001b[0m\u001b[1;32m   1740\u001b[0m \u001b[0;34m\u001b[0m\u001b[0m\n\u001b[1;32m   1741\u001b[0m     \u001b[0;31m# torchrec tests the code consistency with the following code\u001b[0m\u001b[0;34m\u001b[0m\u001b[0;34m\u001b[0m\u001b[0m\n",
            "\u001b[0;32m/usr/local/lib/python3.11/dist-packages/torch/nn/modules/module.py\u001b[0m in \u001b[0;36m_call_impl\u001b[0;34m(self, *args, **kwargs)\u001b[0m\n\u001b[1;32m   1748\u001b[0m                 \u001b[0;32mor\u001b[0m \u001b[0m_global_backward_pre_hooks\u001b[0m \u001b[0;32mor\u001b[0m \u001b[0m_global_backward_hooks\u001b[0m\u001b[0;34m\u001b[0m\u001b[0;34m\u001b[0m\u001b[0m\n\u001b[1;32m   1749\u001b[0m                 or _global_forward_hooks or _global_forward_pre_hooks):\n\u001b[0;32m-> 1750\u001b[0;31m             \u001b[0;32mreturn\u001b[0m \u001b[0mforward_call\u001b[0m\u001b[0;34m(\u001b[0m\u001b[0;34m*\u001b[0m\u001b[0margs\u001b[0m\u001b[0;34m,\u001b[0m \u001b[0;34m**\u001b[0m\u001b[0mkwargs\u001b[0m\u001b[0;34m)\u001b[0m\u001b[0;34m\u001b[0m\u001b[0;34m\u001b[0m\u001b[0m\n\u001b[0m\u001b[1;32m   1751\u001b[0m \u001b[0;34m\u001b[0m\u001b[0m\n\u001b[1;32m   1752\u001b[0m         \u001b[0mresult\u001b[0m \u001b[0;34m=\u001b[0m \u001b[0;32mNone\u001b[0m\u001b[0;34m\u001b[0m\u001b[0;34m\u001b[0m\u001b[0m\n",
            "\u001b[0;32m/usr/local/lib/python3.11/dist-packages/torch/nn/modules/batchnorm.py\u001b[0m in \u001b[0;36mforward\u001b[0;34m(self, input)\u001b[0m\n\u001b[1;32m    171\u001b[0m             \u001b[0;31m# TODO: if statement only here to tell the jit to skip emitting this when it is None\u001b[0m\u001b[0;34m\u001b[0m\u001b[0;34m\u001b[0m\u001b[0m\n\u001b[1;32m    172\u001b[0m             \u001b[0;32mif\u001b[0m \u001b[0mself\u001b[0m\u001b[0;34m.\u001b[0m\u001b[0mnum_batches_tracked\u001b[0m \u001b[0;32mis\u001b[0m \u001b[0;32mnot\u001b[0m \u001b[0;32mNone\u001b[0m\u001b[0;34m:\u001b[0m  \u001b[0;31m# type: ignore[has-type]\u001b[0m\u001b[0;34m\u001b[0m\u001b[0;34m\u001b[0m\u001b[0m\n\u001b[0;32m--> 173\u001b[0;31m                 \u001b[0mself\u001b[0m\u001b[0;34m.\u001b[0m\u001b[0mnum_batches_tracked\u001b[0m\u001b[0;34m.\u001b[0m\u001b[0madd_\u001b[0m\u001b[0;34m(\u001b[0m\u001b[0;36m1\u001b[0m\u001b[0;34m)\u001b[0m  \u001b[0;31m# type: ignore[has-type]\u001b[0m\u001b[0;34m\u001b[0m\u001b[0;34m\u001b[0m\u001b[0m\n\u001b[0m\u001b[1;32m    174\u001b[0m                 \u001b[0;32mif\u001b[0m \u001b[0mself\u001b[0m\u001b[0;34m.\u001b[0m\u001b[0mmomentum\u001b[0m \u001b[0;32mis\u001b[0m \u001b[0;32mNone\u001b[0m\u001b[0;34m:\u001b[0m  \u001b[0;31m# use cumulative moving average\u001b[0m\u001b[0;34m\u001b[0m\u001b[0;34m\u001b[0m\u001b[0m\n\u001b[1;32m    175\u001b[0m                     \u001b[0mexponential_average_factor\u001b[0m \u001b[0;34m=\u001b[0m \u001b[0;36m1.0\u001b[0m \u001b[0;34m/\u001b[0m \u001b[0mfloat\u001b[0m\u001b[0;34m(\u001b[0m\u001b[0mself\u001b[0m\u001b[0;34m.\u001b[0m\u001b[0mnum_batches_tracked\u001b[0m\u001b[0;34m)\u001b[0m\u001b[0;34m\u001b[0m\u001b[0;34m\u001b[0m\u001b[0m\n",
            "\u001b[0;31mKeyboardInterrupt\u001b[0m: "
          ]
        }
      ],
      "source": [
        "from rrelu.setup import replace_act\n",
        "from metrics import eval_fault_\n",
        "model = replace_act(model, 'proact', 'proact', data_loader_dict,\n",
        "                    'layer', 'fixed',False ,'cifar10',is_root=True,device='cuda')\n",
        "print(eval_fault_(model, data_loader_dict, 1e-6,\n",
        "                     bitflip='fixed',iterations=5,device='cuda'))"
      ]
    },
    {
      "cell_type": "code",
      "execution_count": null,
      "metadata": {
        "editable": true,
        "id": "Z9FY4P5sa9NH",
        "tags": []
      },
      "outputs": [],
      "source": [
        "# rm -r reliable-relu-toolbox/"
      ]
    },
    {
      "cell_type": "markdown",
      "metadata": {
        "editable": true,
        "tags": [],
        "id": "qe-Ds1WOlOhJ"
      },
      "source": [
        "## Results of using different methods:\n",
        "\n",
        "![image.png](https://github.com/hamidmousavi0/TSS_Reliability_School/blob/main/Figs/proact_results.png?raw=true)\n",
        "\n",
        "**[GitHub project: reliable-relu-toolbox](https://github.com/hamidmousavi0/reliable-relu-toolbox)**\n",
        "\n",
        "\n",
        "**[Paper link: ProAct: Progressive Training for Hybrid Clipped Activation Function to Enhance Resilience of DNNs](https://arxiv.org/abs/2406.06313)**"
      ]
    },
    {
      "cell_type": "markdown",
      "metadata": {
        "editable": true,
        "tags": [],
        "id": "9uCbN-sMlOhK"
      },
      "source": [
        "## Second Part: ProARD: Progressive Adversarial Robustness Distillation: Provide Wide Range of Robust Students"
      ]
    },
    {
      "cell_type": "markdown",
      "metadata": {
        "editable": true,
        "tags": [],
        "id": "0wud5LSdlOhK"
      },
      "source": [
        "### How about the perturbation in the input data? How can we defend against this type of attacks?\n",
        "\n",
        "![image.png](https://miro.medium.com/v2/resize:fit:1400/1*PmCgcjO3sr3CPPaCpy5Fgw.png)"
      ]
    },
    {
      "cell_type": "markdown",
      "metadata": {
        "editable": true,
        "tags": [],
        "id": "GMklwesalOhK"
      },
      "source": [
        "## The state-of-the-art method is Adversarial Training.\n",
        "\n",
        "**The state-of-the-art methods are:**\n",
        "\n",
        "- TRADES: Theoretically Principled Trade-off between Robustness and Accuracy\n",
        "- ARD: Adversarial Robustness Distillation: Use a Robust Teacher Network to train the student's networks. (**What is the issue?**)\n",
        "  \n",
        "![image.png](https://github.com/hamidmousavi0/TSS_Reliability_School/blob/main/Figs/proard.png?raw=true)\n",
        "\n"
      ]
    },
    {
      "cell_type": "markdown",
      "metadata": {
        "editable": true,
        "tags": [],
        "id": "_yv-y_NVlOhK"
      },
      "source": [
        "## Is it possible to train a single robust supernetwork and extract multiple robust subnetworks from it, each tailored to different resource-constrained devices—without requiring retraining?\n",
        "\n",
        "#### How should we train this super-network?\n",
        "\n",
        "- Randomly sample subnetworks from the supernetwork, train them independently, and return their updates to the supernetwork using weight sharing.\n",
        "- Does it work?"
      ]
    },
    {
      "cell_type": "markdown",
      "metadata": {
        "editable": true,
        "tags": [],
        "id": "ROiZp7O_lOhK"
      },
      "source": [
        "## First step: Making Super Dynamic Network:\n",
        "\n",
        "![image.png](https://github.com/hamidmousavi0/TSS_Reliability_School/blob/main/Figs/dynnet.png?raw=true)"
      ]
    },
    {
      "cell_type": "markdown",
      "metadata": {
        "editable": true,
        "tags": [],
        "id": "YOTH6A6XlOhK"
      },
      "source": [
        "### If we trained the multiple subnetworks inside a supernetwork by randomly subsampling, what would be their accuracy and robustness?  \n",
        "![image.png](https://github.com/hamidmousavi0/TSS_Reliability_School/blob/main/Figs/robac.png?raw=true)"
      ]
    },
    {
      "cell_type": "markdown",
      "metadata": {
        "editable": true,
        "tags": [],
        "id": "HU-4OwumlOhK"
      },
      "source": [
        "\n",
        "**We propose Progressive Adversarial Robustness Distillation (ProARD).**\n",
        "\n",
        "\n",
        "**Enabling the efficient one-time training of a dynamic network that supports a diverse range of accurate and robust student networks without requiring retraining.**\n",
        "\n",
        "\n",
        "#### ProARD: Progressive Adversarial Robustness Distillation: Provide Wide Range of Robust Students\n",
        "\n",
        "![image.png](https://github.com/hamidmousavi0/TSS_Reliability_School/blob/main/Figs/train.png?raw=true)\n",
        "\n",
        "\n",
        "**[Project code:ProARD: Progressive Adversarial Robustness Distillation: Provide Wide Range of Robust Students](https://github.com/hamidmousavi0/Robust_OFA)**"
      ]
    },
    {
      "cell_type": "markdown",
      "metadata": {
        "editable": true,
        "tags": [],
        "id": "Wg-PS8-zlOhK"
      },
      "source": [
        "## Results\n",
        "\n",
        "![image.png](https://github.com/hamidmousavi0/TSS_Reliability_School/blob/main/Figs/re.png?raw=true)"
      ]
    },
    {
      "cell_type": "code",
      "source": [
        "!git clone https://github.com/hamidmousavi0/Robust_OFA.git"
      ],
      "metadata": {
        "id": "G87koq_COC8G",
        "outputId": "af1e56d1-eaef-46b8-8547-1d128f4387ac",
        "colab": {
          "base_uri": "https://localhost:8080/"
        }
      },
      "execution_count": null,
      "outputs": [
        {
          "output_type": "stream",
          "name": "stdout",
          "text": [
            "Cloning into 'Robust_OFA'...\n",
            "remote: Enumerating objects: 290, done.\u001b[K\n",
            "remote: Counting objects: 100% (290/290), done.\u001b[K\n",
            "remote: Compressing objects: 100% (222/222), done.\u001b[K\n",
            "remote: Total 290 (delta 51), reused 260 (delta 47), pack-reused 0 (from 0)\u001b[K\n",
            "Receiving objects: 100% (290/290), 27.92 MiB | 20.82 MiB/s, done.\n",
            "Resolving deltas: 100% (51/51), done.\n"
          ]
        }
      ]
    },
    {
      "cell_type": "code",
      "source": [
        "!pip install git+https://github.com/jeromerony/adversarial-library"
      ],
      "metadata": {
        "id": "KITTJ4yXQ9HF",
        "outputId": "6858df01-ba5b-4f77-a1f2-ff868ecf0fd5",
        "colab": {
          "base_uri": "https://localhost:8080/"
        }
      },
      "execution_count": null,
      "outputs": [
        {
          "output_type": "stream",
          "name": "stdout",
          "text": [
            "Collecting git+https://github.com/jeromerony/adversarial-library\n",
            "  Cloning https://github.com/jeromerony/adversarial-library to /tmp/pip-req-build-9zgkyl1r\n",
            "  Running command git clone --filter=blob:none --quiet https://github.com/jeromerony/adversarial-library /tmp/pip-req-build-9zgkyl1r\n",
            "  Resolved https://github.com/jeromerony/adversarial-library to commit 4ca9b77bb6c909d47e161ced0e257c6003fb4116\n",
            "  Installing build dependencies ... \u001b[?25l\u001b[?25hdone\n",
            "  Getting requirements to build wheel ... \u001b[?25l\u001b[?25hdone\n",
            "  Preparing metadata (pyproject.toml) ... \u001b[?25l\u001b[?25hdone\n",
            "Requirement already satisfied: torch>=1.8.0 in /usr/local/lib/python3.11/dist-packages (from adv-lib==0.2.3) (2.6.0+cu124)\n",
            "Requirement already satisfied: torchvision>=0.9.0 in /usr/local/lib/python3.11/dist-packages (from adv-lib==0.2.3) (0.21.0+cu124)\n",
            "Requirement already satisfied: tqdm>=4.48.0 in /usr/local/lib/python3.11/dist-packages (from adv-lib==0.2.3) (4.67.1)\n",
            "Collecting visdom>=0.1.8 (from adv-lib==0.2.3)\n",
            "  Downloading visdom-0.2.4.tar.gz (1.4 MB)\n",
            "\u001b[2K     \u001b[90m━━━━━━━━━━━━━━━━━━━━━━━━━━━━━━━━━━━━━━━━\u001b[0m \u001b[32m1.4/1.4 MB\u001b[0m \u001b[31m29.8 MB/s\u001b[0m eta \u001b[36m0:00:00\u001b[0m\n",
            "\u001b[?25h  Preparing metadata (setup.py) ... \u001b[?25l\u001b[?25hdone\n",
            "Requirement already satisfied: filelock in /usr/local/lib/python3.11/dist-packages (from torch>=1.8.0->adv-lib==0.2.3) (3.18.0)\n",
            "Requirement already satisfied: typing-extensions>=4.10.0 in /usr/local/lib/python3.11/dist-packages (from torch>=1.8.0->adv-lib==0.2.3) (4.13.2)\n",
            "Requirement already satisfied: networkx in /usr/local/lib/python3.11/dist-packages (from torch>=1.8.0->adv-lib==0.2.3) (3.4.2)\n",
            "Requirement already satisfied: jinja2 in /usr/local/lib/python3.11/dist-packages (from torch>=1.8.0->adv-lib==0.2.3) (3.1.6)\n",
            "Requirement already satisfied: fsspec in /usr/local/lib/python3.11/dist-packages (from torch>=1.8.0->adv-lib==0.2.3) (2025.3.2)\n",
            "Requirement already satisfied: nvidia-cuda-nvrtc-cu12==12.4.127 in /usr/local/lib/python3.11/dist-packages (from torch>=1.8.0->adv-lib==0.2.3) (12.4.127)\n",
            "Requirement already satisfied: nvidia-cuda-runtime-cu12==12.4.127 in /usr/local/lib/python3.11/dist-packages (from torch>=1.8.0->adv-lib==0.2.3) (12.4.127)\n",
            "Requirement already satisfied: nvidia-cuda-cupti-cu12==12.4.127 in /usr/local/lib/python3.11/dist-packages (from torch>=1.8.0->adv-lib==0.2.3) (12.4.127)\n",
            "Requirement already satisfied: nvidia-cudnn-cu12==9.1.0.70 in /usr/local/lib/python3.11/dist-packages (from torch>=1.8.0->adv-lib==0.2.3) (9.1.0.70)\n",
            "Requirement already satisfied: nvidia-cublas-cu12==12.4.5.8 in /usr/local/lib/python3.11/dist-packages (from torch>=1.8.0->adv-lib==0.2.3) (12.4.5.8)\n",
            "Requirement already satisfied: nvidia-cufft-cu12==11.2.1.3 in /usr/local/lib/python3.11/dist-packages (from torch>=1.8.0->adv-lib==0.2.3) (11.2.1.3)\n",
            "Requirement already satisfied: nvidia-curand-cu12==10.3.5.147 in /usr/local/lib/python3.11/dist-packages (from torch>=1.8.0->adv-lib==0.2.3) (10.3.5.147)\n",
            "Requirement already satisfied: nvidia-cusolver-cu12==11.6.1.9 in /usr/local/lib/python3.11/dist-packages (from torch>=1.8.0->adv-lib==0.2.3) (11.6.1.9)\n",
            "Requirement already satisfied: nvidia-cusparse-cu12==12.3.1.170 in /usr/local/lib/python3.11/dist-packages (from torch>=1.8.0->adv-lib==0.2.3) (12.3.1.170)\n",
            "Requirement already satisfied: nvidia-cusparselt-cu12==0.6.2 in /usr/local/lib/python3.11/dist-packages (from torch>=1.8.0->adv-lib==0.2.3) (0.6.2)\n",
            "Requirement already satisfied: nvidia-nccl-cu12==2.21.5 in /usr/local/lib/python3.11/dist-packages (from torch>=1.8.0->adv-lib==0.2.3) (2.21.5)\n",
            "Requirement already satisfied: nvidia-nvtx-cu12==12.4.127 in /usr/local/lib/python3.11/dist-packages (from torch>=1.8.0->adv-lib==0.2.3) (12.4.127)\n",
            "Requirement already satisfied: nvidia-nvjitlink-cu12==12.4.127 in /usr/local/lib/python3.11/dist-packages (from torch>=1.8.0->adv-lib==0.2.3) (12.4.127)\n",
            "Requirement already satisfied: triton==3.2.0 in /usr/local/lib/python3.11/dist-packages (from torch>=1.8.0->adv-lib==0.2.3) (3.2.0)\n",
            "Requirement already satisfied: sympy==1.13.1 in /usr/local/lib/python3.11/dist-packages (from torch>=1.8.0->adv-lib==0.2.3) (1.13.1)\n",
            "Requirement already satisfied: mpmath<1.4,>=1.1.0 in /usr/local/lib/python3.11/dist-packages (from sympy==1.13.1->torch>=1.8.0->adv-lib==0.2.3) (1.3.0)\n",
            "Requirement already satisfied: numpy in /usr/local/lib/python3.11/dist-packages (from torchvision>=0.9.0->adv-lib==0.2.3) (2.0.2)\n",
            "Requirement already satisfied: pillow!=8.3.*,>=5.3.0 in /usr/local/lib/python3.11/dist-packages (from torchvision>=0.9.0->adv-lib==0.2.3) (11.2.1)\n",
            "Requirement already satisfied: scipy in /usr/local/lib/python3.11/dist-packages (from visdom>=0.1.8->adv-lib==0.2.3) (1.15.3)\n",
            "Requirement already satisfied: requests in /usr/local/lib/python3.11/dist-packages (from visdom>=0.1.8->adv-lib==0.2.3) (2.32.3)\n",
            "Requirement already satisfied: tornado in /usr/local/lib/python3.11/dist-packages (from visdom>=0.1.8->adv-lib==0.2.3) (6.4.2)\n",
            "Requirement already satisfied: six in /usr/local/lib/python3.11/dist-packages (from visdom>=0.1.8->adv-lib==0.2.3) (1.17.0)\n",
            "Requirement already satisfied: jsonpatch in /usr/local/lib/python3.11/dist-packages (from visdom>=0.1.8->adv-lib==0.2.3) (1.33)\n",
            "Requirement already satisfied: websocket-client in /usr/local/lib/python3.11/dist-packages (from visdom>=0.1.8->adv-lib==0.2.3) (1.8.0)\n",
            "Requirement already satisfied: MarkupSafe>=2.0 in /usr/local/lib/python3.11/dist-packages (from jinja2->torch>=1.8.0->adv-lib==0.2.3) (3.0.2)\n",
            "Requirement already satisfied: jsonpointer>=1.9 in /usr/local/lib/python3.11/dist-packages (from jsonpatch->visdom>=0.1.8->adv-lib==0.2.3) (3.0.0)\n",
            "Requirement already satisfied: charset-normalizer<4,>=2 in /usr/local/lib/python3.11/dist-packages (from requests->visdom>=0.1.8->adv-lib==0.2.3) (3.4.2)\n",
            "Requirement already satisfied: idna<4,>=2.5 in /usr/local/lib/python3.11/dist-packages (from requests->visdom>=0.1.8->adv-lib==0.2.3) (3.10)\n",
            "Requirement already satisfied: urllib3<3,>=1.21.1 in /usr/local/lib/python3.11/dist-packages (from requests->visdom>=0.1.8->adv-lib==0.2.3) (2.4.0)\n",
            "Requirement already satisfied: certifi>=2017.4.17 in /usr/local/lib/python3.11/dist-packages (from requests->visdom>=0.1.8->adv-lib==0.2.3) (2025.4.26)\n",
            "Building wheels for collected packages: adv-lib, visdom\n",
            "  Building wheel for adv-lib (pyproject.toml) ... \u001b[?25l\u001b[?25hdone\n",
            "  Created wheel for adv-lib: filename=adv_lib-0.2.3-py3-none-any.whl size=80902 sha256=cbb9a0bdb8a4da5192854d847f07d77422568d7db9b8f37e8265206f312557bd\n",
            "  Stored in directory: /tmp/pip-ephem-wheel-cache-kyih6hm2/wheels/05/30/19/2a22b538277b159dbb3b554f29a1e8d23fc140c3d09b663dc1\n",
            "  Building wheel for visdom (setup.py) ... \u001b[?25l\u001b[?25hdone\n",
            "  Created wheel for visdom: filename=visdom-0.2.4-py3-none-any.whl size=1408195 sha256=db9a3f4ff91cfca70ed06a65261fb74b2bf2961ad509ec1c1183166a6b96a0df\n",
            "  Stored in directory: /root/.cache/pip/wheels/fa/a4/bb/2be445c295d88a74f9c0a4232f04860ca489a5c7c57eb959d9\n",
            "Successfully built adv-lib visdom\n",
            "Installing collected packages: visdom, adv-lib\n",
            "Successfully installed adv-lib-0.2.3 visdom-0.2.4\n"
          ]
        }
      ]
    },
    {
      "cell_type": "code",
      "source": [
        "!pip install adversarial-robustness-toolbox"
      ],
      "metadata": {
        "id": "kMQ-o31OPbgC",
        "outputId": "bce90687-e9d7-4e38-bed0-e0584c98eb85",
        "colab": {
          "base_uri": "https://localhost:8080/"
        }
      },
      "execution_count": null,
      "outputs": [
        {
          "output_type": "stream",
          "name": "stdout",
          "text": [
            "Collecting adversarial-robustness-toolbox\n",
            "  Downloading adversarial_robustness_toolbox-1.19.1-py3-none-any.whl.metadata (11 kB)\n",
            "Requirement already satisfied: numpy>=1.18.0 in /usr/local/lib/python3.11/dist-packages (from adversarial-robustness-toolbox) (2.0.2)\n",
            "Requirement already satisfied: scipy>=1.4.1 in /usr/local/lib/python3.11/dist-packages (from adversarial-robustness-toolbox) (1.15.3)\n",
            "Requirement already satisfied: scikit-learn>=0.22.2 in /usr/local/lib/python3.11/dist-packages (from adversarial-robustness-toolbox) (1.6.1)\n",
            "Requirement already satisfied: six in /usr/local/lib/python3.11/dist-packages (from adversarial-robustness-toolbox) (1.17.0)\n",
            "Requirement already satisfied: setuptools in /usr/local/lib/python3.11/dist-packages (from adversarial-robustness-toolbox) (75.2.0)\n",
            "Requirement already satisfied: tqdm in /usr/local/lib/python3.11/dist-packages (from adversarial-robustness-toolbox) (4.67.1)\n",
            "Requirement already satisfied: joblib>=1.2.0 in /usr/local/lib/python3.11/dist-packages (from scikit-learn>=0.22.2->adversarial-robustness-toolbox) (1.5.0)\n",
            "Requirement already satisfied: threadpoolctl>=3.1.0 in /usr/local/lib/python3.11/dist-packages (from scikit-learn>=0.22.2->adversarial-robustness-toolbox) (3.6.0)\n",
            "Downloading adversarial_robustness_toolbox-1.19.1-py3-none-any.whl (1.7 MB)\n",
            "\u001b[2K   \u001b[90m━━━━━━━━━━━━━━━━━━━━━━━━━━━━━━━━━━━━━━━━\u001b[0m \u001b[32m1.7/1.7 MB\u001b[0m \u001b[31m25.7 MB/s\u001b[0m eta \u001b[36m0:00:00\u001b[0m\n",
            "\u001b[?25hInstalling collected packages: adversarial-robustness-toolbox\n",
            "Successfully installed adversarial-robustness-toolbox-1.19.1\n"
          ]
        }
      ]
    },
    {
      "cell_type": "code",
      "source": [
        "!pip install torchprofile\n",
        "!pip install torchpack"
      ],
      "metadata": {
        "id": "5IfZ16R4PPRM",
        "outputId": "c8a99dc8-57bd-426a-d668-b4dac9e1cfbe",
        "colab": {
          "base_uri": "https://localhost:8080/"
        }
      },
      "execution_count": null,
      "outputs": [
        {
          "output_type": "stream",
          "name": "stdout",
          "text": [
            "Collecting torchprofile\n",
            "  Downloading torchprofile-0.0.4-py3-none-any.whl.metadata (303 bytes)\n",
            "Requirement already satisfied: numpy>=1.14 in /usr/local/lib/python3.11/dist-packages (from torchprofile) (2.0.2)\n",
            "Requirement already satisfied: torch>=1.4 in /usr/local/lib/python3.11/dist-packages (from torchprofile) (2.6.0+cu124)\n",
            "Requirement already satisfied: torchvision>=0.4 in /usr/local/lib/python3.11/dist-packages (from torchprofile) (0.21.0+cu124)\n",
            "Requirement already satisfied: filelock in /usr/local/lib/python3.11/dist-packages (from torch>=1.4->torchprofile) (3.18.0)\n",
            "Requirement already satisfied: typing-extensions>=4.10.0 in /usr/local/lib/python3.11/dist-packages (from torch>=1.4->torchprofile) (4.13.2)\n",
            "Requirement already satisfied: networkx in /usr/local/lib/python3.11/dist-packages (from torch>=1.4->torchprofile) (3.4.2)\n",
            "Requirement already satisfied: jinja2 in /usr/local/lib/python3.11/dist-packages (from torch>=1.4->torchprofile) (3.1.6)\n",
            "Requirement already satisfied: fsspec in /usr/local/lib/python3.11/dist-packages (from torch>=1.4->torchprofile) (2025.3.2)\n",
            "Collecting nvidia-cuda-nvrtc-cu12==12.4.127 (from torch>=1.4->torchprofile)\n",
            "  Downloading nvidia_cuda_nvrtc_cu12-12.4.127-py3-none-manylinux2014_x86_64.whl.metadata (1.5 kB)\n",
            "Collecting nvidia-cuda-runtime-cu12==12.4.127 (from torch>=1.4->torchprofile)\n",
            "  Downloading nvidia_cuda_runtime_cu12-12.4.127-py3-none-manylinux2014_x86_64.whl.metadata (1.5 kB)\n",
            "Collecting nvidia-cuda-cupti-cu12==12.4.127 (from torch>=1.4->torchprofile)\n",
            "  Downloading nvidia_cuda_cupti_cu12-12.4.127-py3-none-manylinux2014_x86_64.whl.metadata (1.6 kB)\n",
            "Collecting nvidia-cudnn-cu12==9.1.0.70 (from torch>=1.4->torchprofile)\n",
            "  Downloading nvidia_cudnn_cu12-9.1.0.70-py3-none-manylinux2014_x86_64.whl.metadata (1.6 kB)\n",
            "Collecting nvidia-cublas-cu12==12.4.5.8 (from torch>=1.4->torchprofile)\n",
            "  Downloading nvidia_cublas_cu12-12.4.5.8-py3-none-manylinux2014_x86_64.whl.metadata (1.5 kB)\n",
            "Collecting nvidia-cufft-cu12==11.2.1.3 (from torch>=1.4->torchprofile)\n",
            "  Downloading nvidia_cufft_cu12-11.2.1.3-py3-none-manylinux2014_x86_64.whl.metadata (1.5 kB)\n",
            "Collecting nvidia-curand-cu12==10.3.5.147 (from torch>=1.4->torchprofile)\n",
            "  Downloading nvidia_curand_cu12-10.3.5.147-py3-none-manylinux2014_x86_64.whl.metadata (1.5 kB)\n",
            "Collecting nvidia-cusolver-cu12==11.6.1.9 (from torch>=1.4->torchprofile)\n",
            "  Downloading nvidia_cusolver_cu12-11.6.1.9-py3-none-manylinux2014_x86_64.whl.metadata (1.6 kB)\n",
            "Collecting nvidia-cusparse-cu12==12.3.1.170 (from torch>=1.4->torchprofile)\n",
            "  Downloading nvidia_cusparse_cu12-12.3.1.170-py3-none-manylinux2014_x86_64.whl.metadata (1.6 kB)\n",
            "Requirement already satisfied: nvidia-cusparselt-cu12==0.6.2 in /usr/local/lib/python3.11/dist-packages (from torch>=1.4->torchprofile) (0.6.2)\n",
            "Requirement already satisfied: nvidia-nccl-cu12==2.21.5 in /usr/local/lib/python3.11/dist-packages (from torch>=1.4->torchprofile) (2.21.5)\n",
            "Requirement already satisfied: nvidia-nvtx-cu12==12.4.127 in /usr/local/lib/python3.11/dist-packages (from torch>=1.4->torchprofile) (12.4.127)\n",
            "Collecting nvidia-nvjitlink-cu12==12.4.127 (from torch>=1.4->torchprofile)\n",
            "  Downloading nvidia_nvjitlink_cu12-12.4.127-py3-none-manylinux2014_x86_64.whl.metadata (1.5 kB)\n",
            "Requirement already satisfied: triton==3.2.0 in /usr/local/lib/python3.11/dist-packages (from torch>=1.4->torchprofile) (3.2.0)\n",
            "Requirement already satisfied: sympy==1.13.1 in /usr/local/lib/python3.11/dist-packages (from torch>=1.4->torchprofile) (1.13.1)\n",
            "Requirement already satisfied: mpmath<1.4,>=1.1.0 in /usr/local/lib/python3.11/dist-packages (from sympy==1.13.1->torch>=1.4->torchprofile) (1.3.0)\n",
            "Requirement already satisfied: pillow!=8.3.*,>=5.3.0 in /usr/local/lib/python3.11/dist-packages (from torchvision>=0.4->torchprofile) (11.2.1)\n",
            "Requirement already satisfied: MarkupSafe>=2.0 in /usr/local/lib/python3.11/dist-packages (from jinja2->torch>=1.4->torchprofile) (3.0.2)\n",
            "Downloading torchprofile-0.0.4-py3-none-any.whl (7.7 kB)\n",
            "Downloading nvidia_cublas_cu12-12.4.5.8-py3-none-manylinux2014_x86_64.whl (363.4 MB)\n",
            "\u001b[2K   \u001b[90m━━━━━━━━━━━━━━━━━━━━━━━━━━━━━━━━━━━━━━━━\u001b[0m \u001b[32m363.4/363.4 MB\u001b[0m \u001b[31m4.0 MB/s\u001b[0m eta \u001b[36m0:00:00\u001b[0m\n",
            "\u001b[?25hDownloading nvidia_cuda_cupti_cu12-12.4.127-py3-none-manylinux2014_x86_64.whl (13.8 MB)\n",
            "\u001b[2K   \u001b[90m━━━━━━━━━━━━━━━━━━━━━━━━━━━━━━━━━━━━━━━━\u001b[0m \u001b[32m13.8/13.8 MB\u001b[0m \u001b[31m65.6 MB/s\u001b[0m eta \u001b[36m0:00:00\u001b[0m\n",
            "\u001b[?25hDownloading nvidia_cuda_nvrtc_cu12-12.4.127-py3-none-manylinux2014_x86_64.whl (24.6 MB)\n",
            "\u001b[2K   \u001b[90m━━━━━━━━━━━━━━━━━━━━━━━━━━━━━━━━━━━━━━━━\u001b[0m \u001b[32m24.6/24.6 MB\u001b[0m \u001b[31m35.7 MB/s\u001b[0m eta \u001b[36m0:00:00\u001b[0m\n",
            "\u001b[?25hDownloading nvidia_cuda_runtime_cu12-12.4.127-py3-none-manylinux2014_x86_64.whl (883 kB)\n",
            "\u001b[2K   \u001b[90m━━━━━━━━━━━━━━━━━━━━━━━━━━━━━━━━━━━━━━━━\u001b[0m \u001b[32m883.7/883.7 kB\u001b[0m \u001b[31m53.4 MB/s\u001b[0m eta \u001b[36m0:00:00\u001b[0m\n",
            "\u001b[?25hDownloading nvidia_cudnn_cu12-9.1.0.70-py3-none-manylinux2014_x86_64.whl (664.8 MB)\n",
            "\u001b[2K   \u001b[90m━━━━━━━━━━━━━━━━━━━━━━━━━━━━━━━━━━━━━━━━\u001b[0m \u001b[32m664.8/664.8 MB\u001b[0m \u001b[31m2.0 MB/s\u001b[0m eta \u001b[36m0:00:00\u001b[0m\n",
            "\u001b[?25hDownloading nvidia_cufft_cu12-11.2.1.3-py3-none-manylinux2014_x86_64.whl (211.5 MB)\n",
            "\u001b[2K   \u001b[90m━━━━━━━━━━━━━━━━━━━━━━━━━━━━━━━━━━━━━━━━\u001b[0m \u001b[32m211.5/211.5 MB\u001b[0m \u001b[31m5.9 MB/s\u001b[0m eta \u001b[36m0:00:00\u001b[0m\n",
            "\u001b[?25hDownloading nvidia_curand_cu12-10.3.5.147-py3-none-manylinux2014_x86_64.whl (56.3 MB)\n",
            "\u001b[2K   \u001b[90m━━━━━━━━━━━━━━━━━━━━━━━━━━━━━━━━━━━━━━━━\u001b[0m \u001b[32m56.3/56.3 MB\u001b[0m \u001b[31m13.2 MB/s\u001b[0m eta \u001b[36m0:00:00\u001b[0m\n",
            "\u001b[?25hDownloading nvidia_cusolver_cu12-11.6.1.9-py3-none-manylinux2014_x86_64.whl (127.9 MB)\n",
            "\u001b[2K   \u001b[90m━━━━━━━━━━━━━━━━━━━━━━━━━━━━━━━━━━━━━━━━\u001b[0m \u001b[32m127.9/127.9 MB\u001b[0m \u001b[31m7.4 MB/s\u001b[0m eta \u001b[36m0:00:00\u001b[0m\n",
            "\u001b[?25hDownloading nvidia_cusparse_cu12-12.3.1.170-py3-none-manylinux2014_x86_64.whl (207.5 MB)\n",
            "\u001b[2K   \u001b[90m━━━━━━━━━━━━━━━━━━━━━━━━━━━━━━━━━━━━━━━━\u001b[0m \u001b[32m207.5/207.5 MB\u001b[0m \u001b[31m5.3 MB/s\u001b[0m eta \u001b[36m0:00:00\u001b[0m\n",
            "\u001b[?25hDownloading nvidia_nvjitlink_cu12-12.4.127-py3-none-manylinux2014_x86_64.whl (21.1 MB)\n",
            "\u001b[2K   \u001b[90m━━━━━━━━━━━━━━━━━━━━━━━━━━━━━━━━━━━━━━━━\u001b[0m \u001b[32m21.1/21.1 MB\u001b[0m \u001b[31m102.8 MB/s\u001b[0m eta \u001b[36m0:00:00\u001b[0m\n",
            "\u001b[?25hInstalling collected packages: nvidia-nvjitlink-cu12, nvidia-curand-cu12, nvidia-cufft-cu12, nvidia-cuda-runtime-cu12, nvidia-cuda-nvrtc-cu12, nvidia-cuda-cupti-cu12, nvidia-cublas-cu12, nvidia-cusparse-cu12, nvidia-cudnn-cu12, nvidia-cusolver-cu12, torchprofile\n",
            "  Attempting uninstall: nvidia-nvjitlink-cu12\n",
            "    Found existing installation: nvidia-nvjitlink-cu12 12.5.82\n",
            "    Uninstalling nvidia-nvjitlink-cu12-12.5.82:\n",
            "      Successfully uninstalled nvidia-nvjitlink-cu12-12.5.82\n",
            "  Attempting uninstall: nvidia-curand-cu12\n",
            "    Found existing installation: nvidia-curand-cu12 10.3.6.82\n",
            "    Uninstalling nvidia-curand-cu12-10.3.6.82:\n",
            "      Successfully uninstalled nvidia-curand-cu12-10.3.6.82\n",
            "  Attempting uninstall: nvidia-cufft-cu12\n",
            "    Found existing installation: nvidia-cufft-cu12 11.2.3.61\n",
            "    Uninstalling nvidia-cufft-cu12-11.2.3.61:\n",
            "      Successfully uninstalled nvidia-cufft-cu12-11.2.3.61\n",
            "  Attempting uninstall: nvidia-cuda-runtime-cu12\n",
            "    Found existing installation: nvidia-cuda-runtime-cu12 12.5.82\n",
            "    Uninstalling nvidia-cuda-runtime-cu12-12.5.82:\n",
            "      Successfully uninstalled nvidia-cuda-runtime-cu12-12.5.82\n",
            "  Attempting uninstall: nvidia-cuda-nvrtc-cu12\n",
            "    Found existing installation: nvidia-cuda-nvrtc-cu12 12.5.82\n",
            "    Uninstalling nvidia-cuda-nvrtc-cu12-12.5.82:\n",
            "      Successfully uninstalled nvidia-cuda-nvrtc-cu12-12.5.82\n",
            "  Attempting uninstall: nvidia-cuda-cupti-cu12\n",
            "    Found existing installation: nvidia-cuda-cupti-cu12 12.5.82\n",
            "    Uninstalling nvidia-cuda-cupti-cu12-12.5.82:\n",
            "      Successfully uninstalled nvidia-cuda-cupti-cu12-12.5.82\n",
            "  Attempting uninstall: nvidia-cublas-cu12\n",
            "    Found existing installation: nvidia-cublas-cu12 12.5.3.2\n",
            "    Uninstalling nvidia-cublas-cu12-12.5.3.2:\n",
            "      Successfully uninstalled nvidia-cublas-cu12-12.5.3.2\n",
            "  Attempting uninstall: nvidia-cusparse-cu12\n",
            "    Found existing installation: nvidia-cusparse-cu12 12.5.1.3\n",
            "    Uninstalling nvidia-cusparse-cu12-12.5.1.3:\n",
            "      Successfully uninstalled nvidia-cusparse-cu12-12.5.1.3\n",
            "  Attempting uninstall: nvidia-cudnn-cu12\n",
            "    Found existing installation: nvidia-cudnn-cu12 9.3.0.75\n",
            "    Uninstalling nvidia-cudnn-cu12-9.3.0.75:\n",
            "      Successfully uninstalled nvidia-cudnn-cu12-9.3.0.75\n",
            "  Attempting uninstall: nvidia-cusolver-cu12\n",
            "    Found existing installation: nvidia-cusolver-cu12 11.6.3.83\n",
            "    Uninstalling nvidia-cusolver-cu12-11.6.3.83:\n",
            "      Successfully uninstalled nvidia-cusolver-cu12-11.6.3.83\n",
            "Successfully installed nvidia-cublas-cu12-12.4.5.8 nvidia-cuda-cupti-cu12-12.4.127 nvidia-cuda-nvrtc-cu12-12.4.127 nvidia-cuda-runtime-cu12-12.4.127 nvidia-cudnn-cu12-9.1.0.70 nvidia-cufft-cu12-11.2.1.3 nvidia-curand-cu12-10.3.5.147 nvidia-cusolver-cu12-11.6.1.9 nvidia-cusparse-cu12-12.3.1.170 nvidia-nvjitlink-cu12-12.4.127 torchprofile-0.0.4\n",
            "Collecting torchpack\n",
            "  Downloading torchpack-0.3.1-py3-none-any.whl.metadata (533 bytes)\n",
            "Requirement already satisfied: h5py in /usr/local/lib/python3.11/dist-packages (from torchpack) (3.13.0)\n",
            "Collecting loguru (from torchpack)\n",
            "  Downloading loguru-0.7.3-py3-none-any.whl.metadata (22 kB)\n",
            "Collecting multimethod (from torchpack)\n",
            "  Downloading multimethod-2.0-py3-none-any.whl.metadata (9.2 kB)\n",
            "Requirement already satisfied: numpy in /usr/local/lib/python3.11/dist-packages (from torchpack) (2.0.2)\n",
            "Requirement already satisfied: pyyaml in /usr/local/lib/python3.11/dist-packages (from torchpack) (6.0.2)\n",
            "Requirement already satisfied: scipy in /usr/local/lib/python3.11/dist-packages (from torchpack) (1.15.3)\n",
            "Requirement already satisfied: tensorboard in /usr/local/lib/python3.11/dist-packages (from torchpack) (2.18.0)\n",
            "Collecting tensorpack (from torchpack)\n",
            "  Downloading tensorpack-0.11-py2.py3-none-any.whl.metadata (5.4 kB)\n",
            "Requirement already satisfied: toml in /usr/local/lib/python3.11/dist-packages (from torchpack) (0.10.2)\n",
            "Requirement already satisfied: torch>=1.5.0 in /usr/local/lib/python3.11/dist-packages (from torchpack) (2.6.0+cu124)\n",
            "Requirement already satisfied: torchvision in /usr/local/lib/python3.11/dist-packages (from torchpack) (0.21.0+cu124)\n",
            "Requirement already satisfied: tqdm in /usr/local/lib/python3.11/dist-packages (from torchpack) (4.67.1)\n",
            "Requirement already satisfied: filelock in /usr/local/lib/python3.11/dist-packages (from torch>=1.5.0->torchpack) (3.18.0)\n",
            "Requirement already satisfied: typing-extensions>=4.10.0 in /usr/local/lib/python3.11/dist-packages (from torch>=1.5.0->torchpack) (4.13.2)\n",
            "Requirement already satisfied: networkx in /usr/local/lib/python3.11/dist-packages (from torch>=1.5.0->torchpack) (3.4.2)\n",
            "Requirement already satisfied: jinja2 in /usr/local/lib/python3.11/dist-packages (from torch>=1.5.0->torchpack) (3.1.6)\n",
            "Requirement already satisfied: fsspec in /usr/local/lib/python3.11/dist-packages (from torch>=1.5.0->torchpack) (2025.3.2)\n",
            "Requirement already satisfied: nvidia-cuda-nvrtc-cu12==12.4.127 in /usr/local/lib/python3.11/dist-packages (from torch>=1.5.0->torchpack) (12.4.127)\n",
            "Requirement already satisfied: nvidia-cuda-runtime-cu12==12.4.127 in /usr/local/lib/python3.11/dist-packages (from torch>=1.5.0->torchpack) (12.4.127)\n",
            "Requirement already satisfied: nvidia-cuda-cupti-cu12==12.4.127 in /usr/local/lib/python3.11/dist-packages (from torch>=1.5.0->torchpack) (12.4.127)\n",
            "Requirement already satisfied: nvidia-cudnn-cu12==9.1.0.70 in /usr/local/lib/python3.11/dist-packages (from torch>=1.5.0->torchpack) (9.1.0.70)\n",
            "Requirement already satisfied: nvidia-cublas-cu12==12.4.5.8 in /usr/local/lib/python3.11/dist-packages (from torch>=1.5.0->torchpack) (12.4.5.8)\n",
            "Requirement already satisfied: nvidia-cufft-cu12==11.2.1.3 in /usr/local/lib/python3.11/dist-packages (from torch>=1.5.0->torchpack) (11.2.1.3)\n",
            "Requirement already satisfied: nvidia-curand-cu12==10.3.5.147 in /usr/local/lib/python3.11/dist-packages (from torch>=1.5.0->torchpack) (10.3.5.147)\n",
            "Requirement already satisfied: nvidia-cusolver-cu12==11.6.1.9 in /usr/local/lib/python3.11/dist-packages (from torch>=1.5.0->torchpack) (11.6.1.9)\n",
            "Requirement already satisfied: nvidia-cusparse-cu12==12.3.1.170 in /usr/local/lib/python3.11/dist-packages (from torch>=1.5.0->torchpack) (12.3.1.170)\n",
            "Requirement already satisfied: nvidia-cusparselt-cu12==0.6.2 in /usr/local/lib/python3.11/dist-packages (from torch>=1.5.0->torchpack) (0.6.2)\n",
            "Requirement already satisfied: nvidia-nccl-cu12==2.21.5 in /usr/local/lib/python3.11/dist-packages (from torch>=1.5.0->torchpack) (2.21.5)\n",
            "Requirement already satisfied: nvidia-nvtx-cu12==12.4.127 in /usr/local/lib/python3.11/dist-packages (from torch>=1.5.0->torchpack) (12.4.127)\n",
            "Requirement already satisfied: nvidia-nvjitlink-cu12==12.4.127 in /usr/local/lib/python3.11/dist-packages (from torch>=1.5.0->torchpack) (12.4.127)\n",
            "Requirement already satisfied: triton==3.2.0 in /usr/local/lib/python3.11/dist-packages (from torch>=1.5.0->torchpack) (3.2.0)\n",
            "Requirement already satisfied: sympy==1.13.1 in /usr/local/lib/python3.11/dist-packages (from torch>=1.5.0->torchpack) (1.13.1)\n",
            "Requirement already satisfied: mpmath<1.4,>=1.1.0 in /usr/local/lib/python3.11/dist-packages (from sympy==1.13.1->torch>=1.5.0->torchpack) (1.3.0)\n",
            "Requirement already satisfied: absl-py>=0.4 in /usr/local/lib/python3.11/dist-packages (from tensorboard->torchpack) (1.4.0)\n",
            "Requirement already satisfied: grpcio>=1.48.2 in /usr/local/lib/python3.11/dist-packages (from tensorboard->torchpack) (1.71.0)\n",
            "Requirement already satisfied: markdown>=2.6.8 in /usr/local/lib/python3.11/dist-packages (from tensorboard->torchpack) (3.8)\n",
            "Requirement already satisfied: packaging in /usr/local/lib/python3.11/dist-packages (from tensorboard->torchpack) (24.2)\n",
            "Requirement already satisfied: protobuf!=4.24.0,>=3.19.6 in /usr/local/lib/python3.11/dist-packages (from tensorboard->torchpack) (5.29.4)\n",
            "Requirement already satisfied: setuptools>=41.0.0 in /usr/local/lib/python3.11/dist-packages (from tensorboard->torchpack) (75.2.0)\n",
            "Requirement already satisfied: six>1.9 in /usr/local/lib/python3.11/dist-packages (from tensorboard->torchpack) (1.17.0)\n",
            "Requirement already satisfied: tensorboard-data-server<0.8.0,>=0.7.0 in /usr/local/lib/python3.11/dist-packages (from tensorboard->torchpack) (0.7.2)\n",
            "Requirement already satisfied: werkzeug>=1.0.1 in /usr/local/lib/python3.11/dist-packages (from tensorboard->torchpack) (3.1.3)\n",
            "Requirement already satisfied: termcolor>=1.1 in /usr/local/lib/python3.11/dist-packages (from tensorpack->torchpack) (3.1.0)\n",
            "Requirement already satisfied: tabulate>=0.7.7 in /usr/local/lib/python3.11/dist-packages (from tensorpack->torchpack) (0.9.0)\n",
            "Requirement already satisfied: msgpack>=0.5.2 in /usr/local/lib/python3.11/dist-packages (from tensorpack->torchpack) (1.1.0)\n",
            "Collecting msgpack-numpy>=0.4.4.2 (from tensorpack->torchpack)\n",
            "  Downloading msgpack_numpy-0.4.8-py2.py3-none-any.whl.metadata (5.0 kB)\n",
            "Requirement already satisfied: pyzmq>=16 in /usr/local/lib/python3.11/dist-packages (from tensorpack->torchpack) (24.0.1)\n",
            "Requirement already satisfied: psutil>=5 in /usr/local/lib/python3.11/dist-packages (from tensorpack->torchpack) (5.9.5)\n",
            "Requirement already satisfied: pillow!=8.3.*,>=5.3.0 in /usr/local/lib/python3.11/dist-packages (from torchvision->torchpack) (11.2.1)\n",
            "Requirement already satisfied: MarkupSafe>=2.1.1 in /usr/local/lib/python3.11/dist-packages (from werkzeug>=1.0.1->tensorboard->torchpack) (3.0.2)\n",
            "Downloading torchpack-0.3.1-py3-none-any.whl (34 kB)\n",
            "Downloading loguru-0.7.3-py3-none-any.whl (61 kB)\n",
            "\u001b[2K   \u001b[90m━━━━━━━━━━━━━━━━━━━━━━━━━━━━━━━━━━━━━━━━\u001b[0m \u001b[32m61.6/61.6 kB\u001b[0m \u001b[31m6.2 MB/s\u001b[0m eta \u001b[36m0:00:00\u001b[0m\n",
            "\u001b[?25hDownloading multimethod-2.0-py3-none-any.whl (9.8 kB)\n",
            "Downloading tensorpack-0.11-py2.py3-none-any.whl (296 kB)\n",
            "\u001b[2K   \u001b[90m━━━━━━━━━━━━━━━━━━━━━━━━━━━━━━━━━━━━━━━━\u001b[0m \u001b[32m296.3/296.3 kB\u001b[0m \u001b[31m18.0 MB/s\u001b[0m eta \u001b[36m0:00:00\u001b[0m\n",
            "\u001b[?25hDownloading msgpack_numpy-0.4.8-py2.py3-none-any.whl (6.9 kB)\n",
            "Installing collected packages: multimethod, msgpack-numpy, loguru, tensorpack, torchpack\n",
            "Successfully installed loguru-0.7.3 msgpack-numpy-0.4.8 multimethod-2.0 tensorpack-0.11 torchpack-0.3.1\n"
          ]
        }
      ]
    },
    {
      "cell_type": "code",
      "source": [
        "!pip install git+https://github.com/fra31/auto-attack"
      ],
      "metadata": {
        "id": "R3j5yofmQyLO",
        "outputId": "0f57c312-a074-4af5-88a4-b122bb13eba3",
        "colab": {
          "base_uri": "https://localhost:8080/"
        }
      },
      "execution_count": null,
      "outputs": [
        {
          "output_type": "stream",
          "name": "stdout",
          "text": [
            "Collecting git+https://github.com/fra31/auto-attack\n",
            "  Cloning https://github.com/fra31/auto-attack to /tmp/pip-req-build-u0cfxiby\n",
            "  Running command git clone --filter=blob:none --quiet https://github.com/fra31/auto-attack /tmp/pip-req-build-u0cfxiby\n",
            "  Resolved https://github.com/fra31/auto-attack to commit a39220048b3c9f2cca9a4d3a54604793c68eca7e\n",
            "  Preparing metadata (setup.py) ... \u001b[?25l\u001b[?25hdone\n",
            "Building wheels for collected packages: autoattack\n",
            "  Building wheel for autoattack (setup.py) ... \u001b[?25l\u001b[?25hdone\n",
            "  Created wheel for autoattack: filename=autoattack-0.1-py3-none-any.whl size=36228 sha256=220d3f69c648d8a5f5e53fcc35e1a7b6e1fca3527117b5e820474efc826caab7\n",
            "  Stored in directory: /tmp/pip-ephem-wheel-cache-nlf2_bps/wheels/e1/e8/28/65b2724d4c7740785979eb50bf5e1b3986ead22f6c32a87f8f\n",
            "Successfully built autoattack\n",
            "Installing collected packages: autoattack\n",
            "Successfully installed autoattack-0.1\n"
          ]
        }
      ]
    },
    {
      "cell_type": "code",
      "source": [
        "cd Robust_OFA/"
      ],
      "metadata": {
        "id": "XodO-TvBOeN9",
        "outputId": "c3bfdd37-4645-4ca3-f9b4-cf943d232420",
        "colab": {
          "base_uri": "https://localhost:8080/"
        }
      },
      "execution_count": null,
      "outputs": [
        {
          "output_type": "stream",
          "name": "stdout",
          "text": [
            "/content/Robust_OFA\n"
          ]
        }
      ]
    },
    {
      "cell_type": "code",
      "source": [
        "import gdown\n",
        "gdown.download(\"https://drive.google.com/uc?export=download&id=1Z7HdxG-Wwg54xQRcLZXSBNlxLvBDjduZ\",\"model_best.pth.tar\")"
      ],
      "metadata": {
        "colab": {
          "base_uri": "https://localhost:8080/",
          "height": 142
        },
        "id": "im8d9oIHuUmY",
        "outputId": "0ac09bab-4e64-4fe2-d724-888640531497"
      },
      "execution_count": null,
      "outputs": [
        {
          "output_type": "stream",
          "name": "stderr",
          "text": [
            "Downloading...\n",
            "From (original): https://drive.google.com/uc?export=download&id=1Z7HdxG-Wwg54xQRcLZXSBNlxLvBDjduZ\n",
            "From (redirected): https://drive.google.com/uc?export=download&id=1Z7HdxG-Wwg54xQRcLZXSBNlxLvBDjduZ&confirm=t&uuid=2eccd0a8-a32e-4d97-a74f-a304dd5b62fc\n",
            "To: /content/Robust_OFA/model_best.pth.tar\n",
            "100%|██████████| 185M/185M [00:00<00:00, 210MB/s]\n"
          ]
        },
        {
          "output_type": "execute_result",
          "data": {
            "text/plain": [
              "'model_best.pth.tar'"
            ],
            "application/vnd.google.colaboratory.intrinsic+json": {
              "type": "string"
            }
          },
          "metadata": {},
          "execution_count": 5
        }
      ]
    },
    {
      "cell_type": "code",
      "source": [
        "mv model_best.pth.tar exp/robust/cifar10/ResNet50/trades/width_depth2width_depth_width/phase2/checkpoint/"
      ],
      "metadata": {
        "id": "DOKvs3fu3Awt"
      },
      "execution_count": null,
      "outputs": []
    },
    {
      "cell_type": "code",
      "source": [
        "\n",
        "!python eval_ofa_net.py"
      ],
      "metadata": {
        "id": "hcgpijK2Op97",
        "outputId": "67df94f4-be55-42d1-99d2-956e7b19926f",
        "colab": {
          "base_uri": "https://localhost:8080/"
        }
      },
      "execution_count": null,
      "outputs": [
        {
          "output_type": "stream",
          "name": "stdout",
          "text": [
            "exp/robust/cifar10/ResNet50/trades/width_depth2width_depth_width/phase2/checkpoint/model_best.pth.tar\n",
            "ResNets_Cifar(\n",
            "  (input_stem): ModuleList(\n",
            "    (0): ConvLayer(\n",
            "      (conv): Conv2d(3, 24, kernel_size=(3, 3), stride=(1, 1), padding=(1, 1), bias=False)\n",
            "      (bn): BatchNorm2d(24, eps=1e-05, momentum=0.1, affine=True, track_running_stats=True)\n",
            "      (act): ReLU(inplace=True)\n",
            "    )\n",
            "    (1): ConvLayer(\n",
            "      (conv): Conv2d(24, 40, kernel_size=(3, 3), stride=(1, 1), padding=(1, 1), bias=False)\n",
            "      (bn): BatchNorm2d(40, eps=1e-05, momentum=0.1, affine=True, track_running_stats=True)\n",
            "      (act): ReLU(inplace=True)\n",
            "    )\n",
            "  )\n",
            "  (blocks): ModuleList(\n",
            "    (0): ResNetBottleneckBlock(\n",
            "      (conv1): Sequential(\n",
            "        (conv): Conv2d(40, 40, kernel_size=(1, 1), stride=(1, 1), bias=False)\n",
            "        (bn): BatchNorm2d(40, eps=1e-05, momentum=0.1, affine=True, track_running_stats=True)\n",
            "        (act): ReLU(inplace=True)\n",
            "      )\n",
            "      (conv2): Sequential(\n",
            "        (conv): Conv2d(40, 40, kernel_size=(3, 3), stride=(1, 1), padding=(1, 1), bias=False)\n",
            "        (bn): BatchNorm2d(40, eps=1e-05, momentum=0.1, affine=True, track_running_stats=True)\n",
            "        (act): ReLU(inplace=True)\n",
            "      )\n",
            "      (conv3): Sequential(\n",
            "        (conv): Conv2d(40, 168, kernel_size=(1, 1), stride=(1, 1), bias=False)\n",
            "        (bn): BatchNorm2d(168, eps=1e-05, momentum=0.1, affine=True, track_running_stats=True)\n",
            "      )\n",
            "      (downsample): Sequential(\n",
            "        (conv): Conv2d(40, 168, kernel_size=(1, 1), stride=(1, 1), bias=False)\n",
            "        (bn): BatchNorm2d(168, eps=1e-05, momentum=0.1, affine=True, track_running_stats=True)\n",
            "      )\n",
            "      (final_act): ReLU(inplace=True)\n",
            "    )\n",
            "    (1-2): 2 x ResNetBottleneckBlock(\n",
            "      (conv1): Sequential(\n",
            "        (conv): Conv2d(168, 40, kernel_size=(1, 1), stride=(1, 1), bias=False)\n",
            "        (bn): BatchNorm2d(40, eps=1e-05, momentum=0.1, affine=True, track_running_stats=True)\n",
            "        (act): ReLU(inplace=True)\n",
            "      )\n",
            "      (conv2): Sequential(\n",
            "        (conv): Conv2d(40, 40, kernel_size=(3, 3), stride=(1, 1), padding=(1, 1), bias=False)\n",
            "        (bn): BatchNorm2d(40, eps=1e-05, momentum=0.1, affine=True, track_running_stats=True)\n",
            "        (act): ReLU(inplace=True)\n",
            "      )\n",
            "      (conv3): Sequential(\n",
            "        (conv): Conv2d(40, 168, kernel_size=(1, 1), stride=(1, 1), bias=False)\n",
            "        (bn): BatchNorm2d(168, eps=1e-05, momentum=0.1, affine=True, track_running_stats=True)\n",
            "      )\n",
            "      (downsample): IdentityLayer()\n",
            "      (final_act): ReLU(inplace=True)\n",
            "    )\n",
            "    (3): ResNetBottleneckBlock(\n",
            "      (conv1): Sequential(\n",
            "        (conv): Conv2d(168, 88, kernel_size=(1, 1), stride=(1, 1), bias=False)\n",
            "        (bn): BatchNorm2d(88, eps=1e-05, momentum=0.1, affine=True, track_running_stats=True)\n",
            "        (act): ReLU(inplace=True)\n",
            "      )\n",
            "      (conv2): Sequential(\n",
            "        (conv): Conv2d(88, 88, kernel_size=(3, 3), stride=(2, 2), padding=(1, 1), bias=False)\n",
            "        (bn): BatchNorm2d(88, eps=1e-05, momentum=0.1, affine=True, track_running_stats=True)\n",
            "        (act): ReLU(inplace=True)\n",
            "      )\n",
            "      (conv3): Sequential(\n",
            "        (conv): Conv2d(88, 336, kernel_size=(1, 1), stride=(1, 1), bias=False)\n",
            "        (bn): BatchNorm2d(336, eps=1e-05, momentum=0.1, affine=True, track_running_stats=True)\n",
            "      )\n",
            "      (downsample): Sequential(\n",
            "        (conv): Conv2d(168, 336, kernel_size=(1, 1), stride=(2, 2), bias=False)\n",
            "        (bn): BatchNorm2d(336, eps=1e-05, momentum=0.1, affine=True, track_running_stats=True)\n",
            "      )\n",
            "      (final_act): ReLU(inplace=True)\n",
            "    )\n",
            "    (4-5): 2 x ResNetBottleneckBlock(\n",
            "      (conv1): Sequential(\n",
            "        (conv): Conv2d(336, 88, kernel_size=(1, 1), stride=(1, 1), bias=False)\n",
            "        (bn): BatchNorm2d(88, eps=1e-05, momentum=0.1, affine=True, track_running_stats=True)\n",
            "        (act): ReLU(inplace=True)\n",
            "      )\n",
            "      (conv2): Sequential(\n",
            "        (conv): Conv2d(88, 88, kernel_size=(3, 3), stride=(1, 1), padding=(1, 1), bias=False)\n",
            "        (bn): BatchNorm2d(88, eps=1e-05, momentum=0.1, affine=True, track_running_stats=True)\n",
            "        (act): ReLU(inplace=True)\n",
            "      )\n",
            "      (conv3): Sequential(\n",
            "        (conv): Conv2d(88, 336, kernel_size=(1, 1), stride=(1, 1), bias=False)\n",
            "        (bn): BatchNorm2d(336, eps=1e-05, momentum=0.1, affine=True, track_running_stats=True)\n",
            "      )\n",
            "      (downsample): IdentityLayer()\n",
            "      (final_act): ReLU(inplace=True)\n",
            "    )\n",
            "    (6): ResNetBottleneckBlock(\n",
            "      (conv1): Sequential(\n",
            "        (conv): Conv2d(336, 168, kernel_size=(1, 1), stride=(1, 1), bias=False)\n",
            "        (bn): BatchNorm2d(168, eps=1e-05, momentum=0.1, affine=True, track_running_stats=True)\n",
            "        (act): ReLU(inplace=True)\n",
            "      )\n",
            "      (conv2): Sequential(\n",
            "        (conv): Conv2d(168, 168, kernel_size=(3, 3), stride=(2, 2), padding=(1, 1), bias=False)\n",
            "        (bn): BatchNorm2d(168, eps=1e-05, momentum=0.1, affine=True, track_running_stats=True)\n",
            "        (act): ReLU(inplace=True)\n",
            "      )\n",
            "      (conv3): Sequential(\n",
            "        (conv): Conv2d(168, 664, kernel_size=(1, 1), stride=(1, 1), bias=False)\n",
            "        (bn): BatchNorm2d(664, eps=1e-05, momentum=0.1, affine=True, track_running_stats=True)\n",
            "      )\n",
            "      (downsample): Sequential(\n",
            "        (conv): Conv2d(336, 664, kernel_size=(1, 1), stride=(2, 2), bias=False)\n",
            "        (bn): BatchNorm2d(664, eps=1e-05, momentum=0.1, affine=True, track_running_stats=True)\n",
            "      )\n",
            "      (final_act): ReLU(inplace=True)\n",
            "    )\n",
            "    (7-10): 4 x ResNetBottleneckBlock(\n",
            "      (conv1): Sequential(\n",
            "        (conv): Conv2d(664, 168, kernel_size=(1, 1), stride=(1, 1), bias=False)\n",
            "        (bn): BatchNorm2d(168, eps=1e-05, momentum=0.1, affine=True, track_running_stats=True)\n",
            "        (act): ReLU(inplace=True)\n",
            "      )\n",
            "      (conv2): Sequential(\n",
            "        (conv): Conv2d(168, 168, kernel_size=(3, 3), stride=(1, 1), padding=(1, 1), bias=False)\n",
            "        (bn): BatchNorm2d(168, eps=1e-05, momentum=0.1, affine=True, track_running_stats=True)\n",
            "        (act): ReLU(inplace=True)\n",
            "      )\n",
            "      (conv3): Sequential(\n",
            "        (conv): Conv2d(168, 664, kernel_size=(1, 1), stride=(1, 1), bias=False)\n",
            "        (bn): BatchNorm2d(664, eps=1e-05, momentum=0.1, affine=True, track_running_stats=True)\n",
            "      )\n",
            "      (downsample): IdentityLayer()\n",
            "      (final_act): ReLU(inplace=True)\n",
            "    )\n",
            "    (11): ResNetBottleneckBlock(\n",
            "      (conv1): Sequential(\n",
            "        (conv): Conv2d(664, 336, kernel_size=(1, 1), stride=(1, 1), bias=False)\n",
            "        (bn): BatchNorm2d(336, eps=1e-05, momentum=0.1, affine=True, track_running_stats=True)\n",
            "        (act): ReLU(inplace=True)\n",
            "      )\n",
            "      (conv2): Sequential(\n",
            "        (conv): Conv2d(336, 336, kernel_size=(3, 3), stride=(2, 2), padding=(1, 1), bias=False)\n",
            "        (bn): BatchNorm2d(336, eps=1e-05, momentum=0.1, affine=True, track_running_stats=True)\n",
            "        (act): ReLU(inplace=True)\n",
            "      )\n",
            "      (conv3): Sequential(\n",
            "        (conv): Conv2d(336, 1328, kernel_size=(1, 1), stride=(1, 1), bias=False)\n",
            "        (bn): BatchNorm2d(1328, eps=1e-05, momentum=0.1, affine=True, track_running_stats=True)\n",
            "      )\n",
            "      (downsample): Sequential(\n",
            "        (conv): Conv2d(664, 1328, kernel_size=(1, 1), stride=(2, 2), bias=False)\n",
            "        (bn): BatchNorm2d(1328, eps=1e-05, momentum=0.1, affine=True, track_running_stats=True)\n",
            "      )\n",
            "      (final_act): ReLU(inplace=True)\n",
            "    )\n",
            "    (12-13): 2 x ResNetBottleneckBlock(\n",
            "      (conv1): Sequential(\n",
            "        (conv): Conv2d(1328, 336, kernel_size=(1, 1), stride=(1, 1), bias=False)\n",
            "        (bn): BatchNorm2d(336, eps=1e-05, momentum=0.1, affine=True, track_running_stats=True)\n",
            "        (act): ReLU(inplace=True)\n",
            "      )\n",
            "      (conv2): Sequential(\n",
            "        (conv): Conv2d(336, 336, kernel_size=(3, 3), stride=(1, 1), padding=(1, 1), bias=False)\n",
            "        (bn): BatchNorm2d(336, eps=1e-05, momentum=0.1, affine=True, track_running_stats=True)\n",
            "        (act): ReLU(inplace=True)\n",
            "      )\n",
            "      (conv3): Sequential(\n",
            "        (conv): Conv2d(336, 1328, kernel_size=(1, 1), stride=(1, 1), bias=False)\n",
            "        (bn): BatchNorm2d(1328, eps=1e-05, momentum=0.1, affine=True, track_running_stats=True)\n",
            "      )\n",
            "      (downsample): IdentityLayer()\n",
            "      (final_act): ReLU(inplace=True)\n",
            "    )\n",
            "  )\n",
            "  (global_avg_pool): MyGlobalAvgPool2d(keep_dim=False)\n",
            "  (classifier): LinearLayer(\n",
            "    (linear): Linear(in_features=1328, out_features=10, bias=True)\n",
            "  )\n",
            ")\n",
            "Total training params: 9.51M\n",
            "Total FLOPs: 24733.27M\n",
            "Test random subnet:\n",
            "Validate Epoch #1 :   9% 55/625 [00:22<03:53,  2.44it/s, loss=1.83, top1=84.2, top5=98.6, robust1=49.4, robust5=94, img_size=32]\n",
            "Traceback (most recent call last):\n",
            "  File \"/content/Robust_OFA/eval_ofa_net.py\", line 93, in <module>\n",
            "    loss, (top1, top5,robust1,robust5) = run_manager.validate(net=subnet,is_test=True)\n",
            "                                         ^^^^^^^^^^^^^^^^^^^^^^^^^^^^^^^^^^^^^^^^^^^^^\n",
            "  File \"/content/Robust_OFA/ofa/classification/run_manager/run_manager.py\", line 272, in validate\n",
            "    images_adv,_ = eval_attack.perturb(images, labels)\n",
            "                   ^^^^^^^^^^^^^^^^^^^^^^^^^^^^^^^^^^^\n",
            "  File \"/content/Robust_OFA/attacks/pgd.py\", line 138, in perturb\n",
            "    x_adv, r_adv = perturb_iterative(\n",
            "                   ^^^^^^^^^^^^^^^^^^\n",
            "  File \"/content/Robust_OFA/attacks/pgd.py\", line 48, in perturb_iterative\n",
            "    outputs = predict(xvar + delta)\n",
            "              ^^^^^^^^^^^^^^^^^^^^^\n",
            "  File \"/usr/local/lib/python3.11/dist-packages/torch/nn/modules/module.py\", line 1739, in _wrapped_call_impl\n",
            "    return self._call_impl(*args, **kwargs)\n",
            "           ^^^^^^^^^^^^^^^^^^^^^^^^^^^^^^^^\n",
            "  File \"/usr/local/lib/python3.11/dist-packages/torch/nn/modules/module.py\", line 1750, in _call_impl\n",
            "    return forward_call(*args, **kwargs)\n",
            "           ^^^^^^^^^^^^^^^^^^^^^^^^^^^^^\n",
            "  File \"/usr/local/lib/python3.11/dist-packages/torch/nn/parallel/data_parallel.py\", line 191, in forward\n",
            "    return self.module(*inputs[0], **module_kwargs[0])\n",
            "           ^^^^^^^^^^^^^^^^^^^^^^^^^^^^^^^^^^^^^^^^^^^\n",
            "  File \"/usr/local/lib/python3.11/dist-packages/torch/nn/modules/module.py\", line 1739, in _wrapped_call_impl\n",
            "    return self._call_impl(*args, **kwargs)\n",
            "           ^^^^^^^^^^^^^^^^^^^^^^^^^^^^^^^^\n",
            "  File \"/usr/local/lib/python3.11/dist-packages/torch/nn/modules/module.py\", line 1750, in _call_impl\n",
            "    return forward_call(*args, **kwargs)\n",
            "           ^^^^^^^^^^^^^^^^^^^^^^^^^^^^^\n",
            "  File \"/content/Robust_OFA/ofa/classification/networks/resnets.py\", line 270, in forward\n",
            "    x = block(x)\n",
            "        ^^^^^^^^\n",
            "  File \"/usr/local/lib/python3.11/dist-packages/torch/nn/modules/module.py\", line 1739, in _wrapped_call_impl\n",
            "    return self._call_impl(*args, **kwargs)\n",
            "           ^^^^^^^^^^^^^^^^^^^^^^^^^^^^^^^^\n",
            "  File \"/usr/local/lib/python3.11/dist-packages/torch/nn/modules/module.py\", line 1750, in _call_impl\n",
            "    return forward_call(*args, **kwargs)\n",
            "           ^^^^^^^^^^^^^^^^^^^^^^^^^^^^^\n",
            "  File \"/content/Robust_OFA/ofa/utils/layers.py\", line 774, in forward\n",
            "    residual = self.downsample(x)\n",
            "               ^^^^^^^^^^^^^^^^^^\n",
            "  File \"/usr/local/lib/python3.11/dist-packages/torch/nn/modules/module.py\", line 1739, in _wrapped_call_impl\n",
            "    return self._call_impl(*args, **kwargs)\n",
            "           ^^^^^^^^^^^^^^^^^^^^^^^^^^^^^^^^\n",
            "  File \"/usr/local/lib/python3.11/dist-packages/torch/nn/modules/module.py\", line 1750, in _call_impl\n",
            "    return forward_call(*args, **kwargs)\n",
            "           ^^^^^^^^^^^^^^^^^^^^^^^^^^^^^\n",
            "  File \"/content/Robust_OFA/ofa/utils/layers.py\", line 120, in forward\n",
            "    def forward(self, x):\n",
            "\n",
            "KeyboardInterrupt\n"
          ]
        }
      ]
    },
    {
      "cell_type": "markdown",
      "metadata": {
        "editable": true,
        "tags": [],
        "id": "8f816dOBlOhK"
      },
      "source": [
        "#### $\\color{blue}{\\text{Refrences}}$\n",
        "\n",
        "1. M. H. Ahmadilivani, M. Taheri, J. Raik, M. Daneshtalab, and M. Jenihhin,\n",
        "“A systematic literature review on hardware reliability assessment methods\n",
        "for deep neural networks,” ACM Computing Surveys, vol. 56, no. 6, pp.\n",
        "1–39, 2024.\n",
        "2. L.-H. Hoang, M. A. Hanif, and M. Shafique, “Ft-clipact: Resilience\n",
        "analysis of deep neural networks and improving their fault tolerance\n",
        "using clipped activation,” in 2020 Design, Automation & Test in Europe\n",
        "Conference & Exhibition (DATE). IEEE, 2020, pp. 1241–1246."
      ]
    },
    {
      "cell_type": "markdown",
      "metadata": {
        "editable": true,
        "tags": [],
        "id": "WLCsCdmHlOhL"
      },
      "source": [
        "3. B. Ghavami, M. Sadati, Z. Fang, and L. Shannon, “Fitact: Error resilient\n",
        "deep neural networks via fine-grained post-trainable activation functions,”\n",
        "in 2022 Design, Automation & Test in Europe Conference & Exhibition\n",
        "(DATE). IEEE, 2022, pp. 1239–1244.\n",
        "4. Mousavi, Seyedhamidreza, et al. \"ProAct: Progressive Training for Hybrid Clipped Activation Function to Enhance Resilience of DNNs.\" arXiv preprint arXiv:2406.06313 (2024)."
      ]
    },
    {
      "cell_type": "markdown",
      "metadata": {
        "editable": true,
        "tags": [],
        "id": "hiKW68eplOhL"
      },
      "source": [
        "5. Mousavi, Seyedhamidreza, et al. \"ProARD: Progressive Adversarial Robustness Distillation: Provide Wide Range of Robust Students \" IJCNN (2025).\n",
        "6. M. Goldblum, L. Fowl, S. Feizi, and T. Goldstein, “Adversarially\n",
        "robust distillation,” in Proceedings of the AAAI conference on artificial\n",
        "intelligence, vol. 34, pp. 3996–4003, 2020."
      ]
    },
    {
      "cell_type": "markdown",
      "metadata": {
        "editable": true,
        "tags": [],
        "id": "yOvUOv2glOhL"
      },
      "source": [
        "# Thank You"
      ]
    }
  ],
  "metadata": {
    "colab": {
      "provenance": [],
      "gpuType": "T4"
    },
    "kernelspec": {
      "display_name": "Python 3",
      "name": "python3"
    },
    "language_info": {
      "codemirror_mode": {
        "name": "ipython",
        "version": 3
      },
      "file_extension": ".py",
      "mimetype": "text/x-python",
      "name": "python",
      "nbconvert_exporter": "python",
      "pygments_lexer": "ipython3",
      "version": "3.12.7"
    },
    "accelerator": "GPU"
  },
  "nbformat": 4,
  "nbformat_minor": 0
}